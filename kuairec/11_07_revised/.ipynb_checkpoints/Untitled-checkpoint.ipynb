{
 "cells": [
  {
   "cell_type": "code",
   "execution_count": 1,
   "id": "632b0fee-e989-439d-a37d-9a940bcab0cb",
   "metadata": {},
   "outputs": [
    {
     "name": "stderr",
     "output_type": "stream",
     "text": [
      "2022-11-15 17:44:00.892483: I tensorflow/stream_executor/platform/default/dso_loader.cc:53] Successfully opened dynamic library libcudart.so.11.0\n"
     ]
    }
   ],
   "source": [
    "import tensorflow as tf"
   ]
  },
  {
   "cell_type": "code",
   "execution_count": 2,
   "id": "c52cd110-6362-411c-a21a-496d7d4e9c7e",
   "metadata": {},
   "outputs": [
    {
     "name": "stderr",
     "output_type": "stream",
     "text": [
      "2022-11-15 17:44:03.783319: I tensorflow/stream_executor/platform/default/dso_loader.cc:53] Successfully opened dynamic library libcuda.so.1\n",
      "2022-11-15 17:44:03.787769: E tensorflow/stream_executor/cuda/cuda_driver.cc:328] failed call to cuInit: CUDA_ERROR_NO_DEVICE: no CUDA-capable device is detected\n",
      "2022-11-15 17:44:03.787798: I tensorflow/stream_executor/cuda/cuda_diagnostics.cc:163] no NVIDIA GPU device is present: /dev/nvidia0 does not exist\n",
      "2022-11-15 17:44:03.788338: I tensorflow/core/platform/cpu_feature_guard.cc:142] This TensorFlow binary is optimized with oneAPI Deep Neural Network Library (oneDNN) to use the following CPU instructions in performance-critical operations:  AVX2 AVX512F FMA\n",
      "To enable them in other operations, rebuild TensorFlow with the appropriate compiler flags.\n"
     ]
    }
   ],
   "source": [
    "seq_embed=tf.random.normal([5,10,3])"
   ]
  },
  {
   "cell_type": "code",
   "execution_count": 3,
   "id": "2a6bb7d2-8204-4fae-ae95-e655e47b4614",
   "metadata": {},
   "outputs": [],
   "source": [
    "att=tf.random.normal([5,2,10])"
   ]
  },
  {
   "cell_type": "code",
   "execution_count": 4,
   "id": "2999c86c-c5b8-4b26-b212-76da696cf796",
   "metadata": {},
   "outputs": [],
   "source": [
    "def contrastive_label(seq_embed,s_item_index,k):\n",
    "    #s_item_emd,s_item_index=tf.math.top_k(att, k)\n",
    "    s_item_index=tf.reshape(s_item_index,[-1,])\n",
    "    h_index=tf.sort(tf.tile(tf.reshape(tf.range(tf.shape(seq_embed)[0]),[-1,]),[interest_num*k]),axis=0)\n",
    "    index = tf.stack([h_index, s_item_index])\n",
    "    #print(index)\n",
    "    index=tf.transpose(index,[1,0])\n",
    "    index=tf.reshape(index,[-1,k,2])\n",
    "    #print(index)\n",
    "    all_user_label=tf.gather_nd(seq_embed, index)\n",
    "    all_user_label=tf.reshape(all_user_label,[-1,interest_num,k,hidden_size])\n",
    "    all_user_label=tf.reduce_mean(all_user_label,axis=-2)\n",
    "    return all_user_label"
   ]
  },
  {
   "cell_type": "code",
   "execution_count": 8,
   "id": "de5ae789-55ab-4e10-8fab-f49202f13b21",
   "metadata": {},
   "outputs": [],
   "source": [
    "k=3\n",
    "interest_num=2\n",
    "hidden_size=3\n",
    "att_sum_dict={}\n",
    "att_sum_mask={}\n",
    "all_user_label_dict={}\n",
    "for i in range(2,k+1):\n",
    "    s_item_emd,s_item_index=tf.math.top_k(att, i)\n",
    "    att_sum_dict['att_sum_'+str(i)]=tf.reduce_sum(s_item_emd,axis=-1)\n",
    "    att_sum_mask['att_sum_mask_'+str(i)]=tf.math.greater(att_sum_dict['att_sum_'+str(i)],0.5)\n",
    "    #masked_seq_emb=tf.boolean_mask(seq_embed,att_sum_mask['att_sum_mask_'+str(i)])\n",
    "    #masked_s_item_index=tf.boolean_mask(s_item_index,att_sum_mask['att_sum_mask_'+str(i)])\n",
    "    all_user_label_dict['all_user_label_'+str(i)]=contrastive_label(seq_embed,s_item_index,i)\n",
    "all_user_label=tf.zeros_like(all_user_label_dict['all_user_label_'+str(2)])\n",
    "ones=tf.ones_like(att_sum_mask['att_sum_mask_'+str(2)],dtype=tf.float32)\n",
    "att_mask=tf.zeros_like(ones,dtype=tf.float32)\n",
    "for i in range(2,k+1):\n",
    "    all_user_label+=all_user_label_dict['all_user_label_'+str(i)]\n",
    "    if i==k:\n",
    "        att_mask+=ones\n",
    "    else:\n",
    "        att_mask+=tf.cast(att_sum_mask['att_sum_mask_'+str(i)],tf.float32)\n",
    "    #print(all_user_label_dict['masked_'+'all_user_label_'+str(i)])\n",
    "\n",
    "all_user_label=tf.multiply(all_user_label,tf.expand_dims(1/att_mask,axis=-1))"
   ]
  },
  {
   "cell_type": "code",
   "execution_count": 9,
   "id": "c491a1dc-9969-4966-961a-dff8b21764a0",
   "metadata": {},
   "outputs": [
    {
     "name": "stdout",
     "output_type": "stream",
     "text": [
      "tf.Tensor(\n",
      "[[[ 0.26623842 -0.5428592   0.31396398]\n",
      "  [ 0.2971798   0.17488787  0.24943928]]\n",
      "\n",
      " [[-0.1427265  -0.06200178 -0.25600278]\n",
      "  [-0.22613826 -0.58630776  0.12309843]]\n",
      "\n",
      " [[ 0.4988478   0.44118476  0.5975423 ]\n",
      "  [-0.78079736 -1.08051     0.84546244]]\n",
      "\n",
      " [[-0.6078783  -0.16498214 -0.08061469]\n",
      "  [-0.00721807  0.5845836  -0.2985186 ]]\n",
      "\n",
      " [[ 0.45835862  0.58816886  0.7973914 ]\n",
      "  [-0.00200891 -0.03074746 -0.48155794]]], shape=(5, 2, 3), dtype=float32)\n"
     ]
    }
   ],
   "source": [
    "print(all_user_label)"
   ]
  },
  {
   "cell_type": "code",
   "execution_count": 10,
   "id": "0eeeb6c8-5e78-401a-ad24-8180578cfb70",
   "metadata": {},
   "outputs": [
    {
     "data": {
      "text/plain": [
       "<tf.Tensor: shape=(5, 2), dtype=float32, numpy=\n",
       "array([[0.33333334, 0.33333334],\n",
       "       [0.33333334, 0.33333334],\n",
       "       [0.33333334, 1.        ],\n",
       "       [0.33333334, 0.33333334],\n",
       "       [0.33333334, 0.33333334]], dtype=float32)>"
      ]
     },
     "execution_count": 10,
     "metadata": {},
     "output_type": "execute_result"
    }
   ],
   "source": [
    "1/att_mask"
   ]
  },
  {
   "cell_type": "code",
   "execution_count": null,
   "id": "a0d7a1d3-8965-4e4e-8736-37bb410df33a",
   "metadata": {},
   "outputs": [],
   "source": []
  }
 ],
 "metadata": {
  "kernelspec": {
   "display_name": "Python 3 (ipykernel)",
   "language": "python",
   "name": "python3"
  },
  "language_info": {
   "codemirror_mode": {
    "name": "ipython",
    "version": 3
   },
   "file_extension": ".py",
   "mimetype": "text/x-python",
   "name": "python",
   "nbconvert_exporter": "python",
   "pygments_lexer": "ipython3",
   "version": "3.8.10"
  }
 },
 "nbformat": 4,
 "nbformat_minor": 5
}
