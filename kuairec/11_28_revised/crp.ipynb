{
 "cells": [
  {
   "cell_type": "code",
   "execution_count": 8,
   "id": "bbc5e407-7c1e-4b9c-b201-66d47da2edd7",
   "metadata": {},
   "outputs": [],
   "source": [
    "import numpy as np\n",
    "\n",
    "def Draw_CRP_Direct_Sample(N = 10, alpha = 1, T = 50, VERBOSE = False):\n",
    "\n",
    "    Z_table = np.zeros((T,N))\n",
    "    \n",
    "    for t in range(T):\n",
    "    \n",
    "        Z = np.zeros(N,dtype=int)\n",
    "\n",
    "        for i in range(N):\n",
    "\n",
    "            if i == 0:\n",
    "                Z[i] = 1\n",
    "            else:\n",
    "                if VERBOSE:\n",
    "                    print(Z)\n",
    "                unique, counts = np.unique(Z, return_counts=True)\n",
    "\n",
    "                # remove the zeros unsigned tables\n",
    "                if unique[0] == 0:\n",
    "                    unique = np.delete(unique,0)\n",
    "                    counts = np.delete(counts,0)\n",
    "\n",
    "                #if VERBOSE:\n",
    "                #    print \"unique,counts,alpha\", unique,counts,alpha\n",
    "\n",
    "                # added alpha to the end of the counts (weights) array\n",
    "                counts = np.append(counts,alpha)\n",
    "\n",
    "                # also the new table index will be the max of table seen so far\n",
    "                unique = np.append(unique,max(unique)+1)\n",
    "\n",
    "                #print \"np.append(counts,alpha)\",counts\n",
    "\n",
    "                #if VERBOSE:\n",
    "                #    print sum(counts)\n",
    "                u = np.random.uniform()*sum(counts)\n",
    "\n",
    "                a_counts = np.cumsum(counts)\n",
    "\n",
    "                if VERBOSE:\n",
    "                    print(counts, u, a_counts > u)\n",
    "\n",
    "                # first index where accumuated sum is greater than random variable\n",
    "                index =  np.argmax(a_counts > u)\n",
    "\n",
    "                #print \"index\", index\n",
    "\n",
    "                Z[i] = unique[index]\n",
    "\n",
    "            if VERBOSE:\n",
    "                print(Z)\n",
    "                print(\"\\n\\n\") \n",
    "        \n",
    "        \n",
    "        Z_table[t,:] = Z\n",
    "    return Z_table"
   ]
  },
  {
   "cell_type": "code",
   "execution_count": 12,
   "id": "f3789597-6134-4def-a9ef-53a18b753b89",
   "metadata": {},
   "outputs": [
    {
     "name": "stdout",
     "output_type": "stream",
     "text": [
      "sample E(K) =  4.7836\n",
      "\n",
      "\n"
     ]
    }
   ],
   "source": [
    "alpha = 3\n",
    "N = 10\n",
    "T = 10000\n",
    "VERBOSE = False\n",
    "burn_in = int(T/10)\n",
    "\n",
    "Z_table = Draw_CRP_Direct_Sample(N, alpha , T , VERBOSE)\n",
    "table_numbers = np.zeros(T,dtype=int)\n",
    "\n",
    "for t in range(T):\n",
    "    unique, count = np.unique(Z_table[t,:], return_counts=True)\n",
    "    table_numbers[t] = len(count)\n",
    "exp_average = np.mean(table_numbers)    \n",
    "print(\"sample E(K) = \", exp_average)\n",
    "print(\"\\n\")"
   ]
  },
  {
   "cell_type": "code",
   "execution_count": 7,
   "id": "9c014064-003e-4282-b03a-f440153e15e0",
   "metadata": {},
   "outputs": [
    {
     "ename": "ModuleNotFoundError",
     "evalue": "No module named 'scipy'",
     "output_type": "error",
     "traceback": [
      "\u001b[0;31m---------------------------------------------------------------------------\u001b[0m",
      "\u001b[0;31mModuleNotFoundError\u001b[0m                       Traceback (most recent call last)",
      "\u001b[0;32m/tmp/ipykernel_7152/3911304813.py\u001b[0m in \u001b[0;36m<module>\u001b[0;34m\u001b[0m\n\u001b[0;32m----> 1\u001b[0;31m \u001b[0;32mfrom\u001b[0m \u001b[0mscipy\u001b[0m\u001b[0;34m.\u001b[0m\u001b[0mspecial\u001b[0m \u001b[0;32mimport\u001b[0m \u001b[0mdigamma\u001b[0m\u001b[0;34m,\u001b[0m \u001b[0mgamma\u001b[0m\u001b[0;34m,\u001b[0m \u001b[0mgammaln\u001b[0m\u001b[0;34m\u001b[0m\u001b[0;34m\u001b[0m\u001b[0m\n\u001b[0m\u001b[1;32m      2\u001b[0m \u001b[0mtheory_average\u001b[0m \u001b[0;34m=\u001b[0m \u001b[0malpha\u001b[0m \u001b[0;34m*\u001b[0m \u001b[0;34m(\u001b[0m\u001b[0mdigamma\u001b[0m\u001b[0;34m(\u001b[0m\u001b[0malpha\u001b[0m \u001b[0;34m+\u001b[0m \u001b[0mN\u001b[0m\u001b[0;34m)\u001b[0m \u001b[0;34m-\u001b[0m \u001b[0mdigamma\u001b[0m\u001b[0;34m(\u001b[0m\u001b[0malpha\u001b[0m\u001b[0;34m)\u001b[0m\u001b[0;34m)\u001b[0m\u001b[0;34m\u001b[0m\u001b[0;34m\u001b[0m\u001b[0m\n\u001b[1;32m      3\u001b[0m \u001b[0mprint\u001b[0m\u001b[0;34m(\u001b[0m\u001b[0mtheory_average\u001b[0m\u001b[0;34m)\u001b[0m\u001b[0;34m\u001b[0m\u001b[0;34m\u001b[0m\u001b[0m\n",
      "\u001b[0;31mModuleNotFoundError\u001b[0m: No module named 'scipy'"
     ]
    }
   ],
   "source": []
  },
  {
   "cell_type": "code",
   "execution_count": 21,
   "id": "0483d35f-89d4-4402-ba6f-e6e3d57117d8",
   "metadata": {},
   "outputs": [
    {
     "name": "stdout",
     "output_type": "stream",
     "text": [
      "tf.Tensor(4.8096323, shape=(), dtype=float32)\n",
      "4.809632034632035\n"
     ]
    }
   ],
   "source": [
    "import tensorflow as tf\n",
    "alpha = 3\n",
    "N = 10\n",
    "print(alpha * (tf.math.digamma(tf.cast((alpha + N),tf.float32))-tf.math.digamma(tf.cast((alpha),tf.float32))))\n",
    "\n",
    "from scipy.special import digamma, gamma, gammaln\n",
    "theory_average = alpha * (digamma(alpha + N) - digamma(alpha))\n",
    "print(theory_average)"
   ]
  },
  {
   "cell_type": "code",
   "execution_count": 22,
   "id": "6d06ce41-257c-4871-b022-41d3a7f0ab36",
   "metadata": {},
   "outputs": [
    {
     "data": {
      "text/plain": [
       "<tf.Tensor: shape=(), dtype=float32, numpy=5.0>"
      ]
     },
     "execution_count": 22,
     "metadata": {},
     "output_type": "execute_result"
    }
   ],
   "source": [
    "tf.math.ceil(alpha * (tf.math.digamma(tf.cast((alpha + N),tf.float32))-tf.math.digamma(tf.cast((alpha),tf.float32))))"
   ]
  },
  {
   "cell_type": "code",
   "execution_count": 10,
   "id": "5fc0bbf4-3cb0-41b9-a962-e3317ccfe13c",
   "metadata": {},
   "outputs": [
    {
     "data": {
      "text/plain": [
       "<tf.Tensor: shape=(), dtype=float32, numpy=0.92278427>"
      ]
     },
     "execution_count": 10,
     "metadata": {},
     "output_type": "execute_result"
    }
   ],
   "source": []
  },
  {
   "cell_type": "code",
   "execution_count": 16,
   "id": "c471f28b-0db1-47db-b4d2-764dc4f4b0f8",
   "metadata": {},
   "outputs": [
    {
     "data": {
      "text/plain": [
       "<tf.Tensor: shape=(), dtype=float32, numpy=4.8096323>"
      ]
     },
     "execution_count": 16,
     "metadata": {},
     "output_type": "execute_result"
    }
   ],
   "source": []
  },
  {
   "cell_type": "code",
   "execution_count": 15,
   "id": "b60c15b5-12f5-4b5a-8aaa-8b8a474f839f",
   "metadata": {},
   "outputs": [
    {
     "data": {
      "text/plain": [
       "1.603210678210678"
      ]
     },
     "execution_count": 15,
     "metadata": {},
     "output_type": "execute_result"
    }
   ],
   "source": [
    "digamma(alpha + N)-digamma(alpha)"
   ]
  },
  {
   "cell_type": "code",
   "execution_count": null,
   "id": "92f7483c-dd3e-4930-8de3-aad57032db8a",
   "metadata": {},
   "outputs": [],
   "source": []
  }
 ],
 "metadata": {
  "kernelspec": {
   "display_name": "Python 3 (ipykernel)",
   "language": "python",
   "name": "python3"
  },
  "language_info": {
   "codemirror_mode": {
    "name": "ipython",
    "version": 3
   },
   "file_extension": ".py",
   "mimetype": "text/x-python",
   "name": "python",
   "nbconvert_exporter": "python",
   "pygments_lexer": "ipython3",
   "version": "3.8.10"
  }
 },
 "nbformat": 4,
 "nbformat_minor": 5
}
