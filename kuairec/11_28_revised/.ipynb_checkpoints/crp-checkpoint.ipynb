{
 "cells": [
  {
   "cell_type": "code",
   "execution_count": 8,
   "id": "bbc5e407-7c1e-4b9c-b201-66d47da2edd7",
   "metadata": {},
   "outputs": [],
   "source": [
    "import numpy as np\n",
    "\n",
    "def Draw_CRP_Direct_Sample(N = 10, alpha = 1, T = 50, VERBOSE = False):\n",
    "\n",
    "    Z_table = np.zeros((T,N))\n",
    "    \n",
    "    for t in range(T):\n",
    "    \n",
    "        Z = np.zeros(N,dtype=int)\n",
    "\n",
    "        for i in range(N):\n",
    "\n",
    "            if i == 0:\n",
    "                Z[i] = 1\n",
    "            else:\n",
    "                if VERBOSE:\n",
    "                    print(Z)\n",
    "                unique, counts = np.unique(Z, return_counts=True)\n",
    "\n",
    "                # remove the zeros unsigned tables\n",
    "                if unique[0] == 0:\n",
    "                    unique = np.delete(unique,0)\n",
    "                    counts = np.delete(counts,0)\n",
    "\n",
    "                #if VERBOSE:\n",
    "                #    print \"unique,counts,alpha\", unique,counts,alpha\n",
    "\n",
    "                # added alpha to the end of the counts (weights) array\n",
    "                counts = np.append(counts,alpha)\n",
    "\n",
    "                # also the new table index will be the max of table seen so far\n",
    "                unique = np.append(unique,max(unique)+1)\n",
    "\n",
    "                #print \"np.append(counts,alpha)\",counts\n",
    "\n",
    "                #if VERBOSE:\n",
    "                #    print sum(counts)\n",
    "                u = np.random.uniform()*sum(counts)\n",
    "\n",
    "                a_counts = np.cumsum(counts)\n",
    "\n",
    "                if VERBOSE:\n",
    "                    print(counts, u, a_counts > u)\n",
    "\n",
    "                # first index where accumuated sum is greater than random variable\n",
    "                index =  np.argmax(a_counts > u)\n",
    "\n",
    "                #print \"index\", index\n",
    "\n",
    "                Z[i] = unique[index]\n",
    "\n",
    "            if VERBOSE:\n",
    "                print(Z)\n",
    "                print(\"\\n\\n\") \n",
    "        \n",
    "        \n",
    "        Z_table[t,:] = Z\n",
    "    return Z_table"
   ]
  },
  {
   "cell_type": "code",
   "execution_count": 12,
   "id": "f3789597-6134-4def-a9ef-53a18b753b89",
   "metadata": {},
   "outputs": [
    {
     "name": "stdout",
     "output_type": "stream",
     "text": [
      "sample E(K) =  4.7836\n",
      "\n",
      "\n"
     ]
    }
   ],
   "source": [
    "alpha = 3\n",
    "N = 10\n",
    "T = 10000\n",
    "VERBOSE = False\n",
    "burn_in = int(T/10)\n",
    "\n",
    "Z_table = Draw_CRP_Direct_Sample(N, alpha , T , VERBOSE)\n",
    "table_numbers = np.zeros(T,dtype=int)\n",
    "\n",
    "for t in range(T):\n",
    "    unique, count = np.unique(Z_table[t,:], return_counts=True)\n",
    "    table_numbers[t] = len(count)\n",
    "exp_average = np.mean(table_numbers)    \n",
    "print(\"sample E(K) = \", exp_average)\n",
    "print(\"\\n\")"
   ]
  },
  {
   "cell_type": "code",
   "execution_count": 13,
   "id": "9c014064-003e-4282-b03a-f440153e15e0",
   "metadata": {},
   "outputs": [
    {
     "name": "stdout",
     "output_type": "stream",
     "text": [
      "4.809632034632035\n"
     ]
    }
   ],
   "source": [
    "from scipy.special import digamma, gamma, gammaln\n",
    "theory_average = alpha * (digamma(alpha + N) - digamma(alpha))\n",
    "print(theory_average)"
   ]
  },
  {
   "cell_type": "code",
   "execution_count": null,
   "id": "0483d35f-89d4-4402-ba6f-e6e3d57117d8",
   "metadata": {},
   "outputs": [],
   "source": []
  }
 ],
 "metadata": {
  "kernelspec": {
   "display_name": "Python 3 (ipykernel)",
   "language": "python",
   "name": "python3"
  },
  "language_info": {
   "codemirror_mode": {
    "name": "ipython",
    "version": 3
   },
   "file_extension": ".py",
   "mimetype": "text/x-python",
   "name": "python",
   "nbconvert_exporter": "python",
   "pygments_lexer": "ipython3",
   "version": "3.8.10"
  }
 },
 "nbformat": 4,
 "nbformat_minor": 5
}
