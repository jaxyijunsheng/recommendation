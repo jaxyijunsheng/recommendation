{
 "cells": [
  {
   "cell_type": "code",
   "execution_count": 1,
   "id": "2987d6dc-a28c-4a82-9044-c3192d099183",
   "metadata": {},
   "outputs": [],
   "source": [
    "import numpy as np\n",
    "import random\n",
    "def non_zero_sample(user_dict,maxlen,len_seq):\n",
    "    train_set=[]\n",
    "    test_set=[]\n",
    "    val_set=[]\n",
    "    train_val_set=[]\n",
    "    for u in user_dict.keys():\n",
    "        idx=0\n",
    "        original_hist=user_dict[u]        \n",
    "        seq = np.zeros([len_seq], dtype=np.int32)\n",
    "        #print(np.shape(seq[-maxlen:]))\n",
    "        while(len(original_hist)<maxlen):\n",
    "            original_hist.insert(0,0)\n",
    "        #print(len(hist),hist)\n",
    "        hist=original_hist[-maxlen:-2]\n",
    "        for i in range(len_seq,len(hist)):\n",
    "            seq = np.zeros([len_seq], dtype=np.int32)\n",
    "            #rint(hist[max(0,i-len_seq):i])\n",
    "            seq=hist[max(0,i-len_seq):i]\n",
    "            idx+=-1\n",
    "            nxt = hist[i]\n",
    "            #print((u,seq,nxt))\n",
    "            neg_item = [random.randint(1, items_num) for _ in range(neg_num)]\n",
    "            train_set.append((u,list(seq),nxt,neg_item))\n",
    "            #print(seq)\n",
    "        #print(np.shape(hist[0:len(hist)-1]))\n",
    "        train_val_set.append((u,list(seq),nxt))\n",
    "        \n",
    "        seq = np.zeros([len_seq], dtype=np.int32)\n",
    "        seq=original_hist[-len_seq-2:-2]\n",
    "        nxt = original_hist[-2]\n",
    "        neg_item = [random.randint(1, items_num) for _ in range(neg_num)]\n",
    "        val_set.append((u,list(seq),nxt,neg_item))\n",
    "        \n",
    "        seq = np.zeros([len_seq], dtype=np.int32)\n",
    "        seq=original_hist[-len_seq-1:-1]\n",
    "        nxt = original_hist[-1]\n",
    "        neg_item = [random.randint(1, items_num) for _ in range(test_neg_num)]\n",
    "        test_set.append((u,list(seq),nxt,neg_item))\n",
    "    random.shuffle(train_set)\n",
    "    random.shuffle(test_set)\n",
    "    return train_set,test_set ,val_set,train_val_set  "
   ]
  },
  {
   "cell_type": "code",
   "execution_count": 2,
   "id": "95355f69-34ea-4ea9-ab22-ded84e8b47b3",
   "metadata": {},
   "outputs": [
    {
     "name": "stdout",
     "output_type": "stream",
     "text": [
      "1267078 1411 1411 1411\n"
     ]
    }
   ],
   "source": [
    "import pickle\n",
    "with open('/root/autodl-nas/workspace/datasets/kuairec/small_matrix.pkl', 'rb') as f:    \n",
    "    user_dict = pickle.load(f)\n",
    "items_num=max(max(user_dict.values()))\n",
    "maxlen=1000\n",
    "len_seq=100\n",
    "neg_num=4\n",
    "test_neg_num=100\n",
    "train_set,test_set,val_set,train_val_set=non_zero_sample(user_dict,maxlen,len_seq)\n",
    "print(len(train_set),len(test_set),len(val_set),len(train_val_set))"
   ]
  },
  {
   "cell_type": "code",
   "execution_count": 3,
   "id": "6fa317d4-cebd-4169-9c7a-0d4a70f8cdba",
   "metadata": {},
   "outputs": [],
   "source": [
    "users, click_seqs, pos_items,neg_items = zip(*train_set)\n",
    "train_data = {'click_seq': np.array(click_seqs), 'pos_item': np.array(pos_items),'neg_item':np.array(neg_items),'user':np.array(users)}\n",
    "users, click_seqs, pos_items,neg_items = zip(*test_set)\n",
    "test_data = {'click_seq': np.array(click_seqs), 'pos_item': np.array(pos_items),'neg_item':np.array(neg_items),'user':np.array(users)}\n",
    "users, click_seqs, pos_items,neg_items = zip(*val_set)\n",
    "val_data = {'click_seq': np.array(click_seqs), 'pos_item': np.array(pos_items),'neg_item':np.array(neg_items),'user':np.array(users)}"
   ]
  },
  {
   "cell_type": "code",
   "execution_count": 5,
   "id": "5b665f4d-1b15-4d58-82f5-42bfa5fa21ab",
   "metadata": {},
   "outputs": [
    {
     "name": "stdout",
     "output_type": "stream",
     "text": [
      "0\n",
      "500000\n",
      "1000000\n",
      "0\n",
      "500000\n",
      "1000000\n",
      "pass\n"
     ]
    }
   ],
   "source": [
    "for i in range(len(train_data['click_seq'])):\n",
    "    if i%500000==0:\n",
    "        print(i)\n",
    "    if list(test_data['click_seq'][0])==list(train_data['click_seq'][i]):\n",
    "        print(test_data['click_seq'][0],test_data['pos_item'][0],train_data['click_seq'][i],train_data['pos_item'][i])\n",
    "for i in range(len(train_data['click_seq'])):\n",
    "    if i%500000==0:\n",
    "        print(i)\n",
    "    if list(val_data['click_seq'][0])==list(train_data['click_seq'][i]):\n",
    "        print(val_data['click_seq'][0],val_data['pos_item'][0],train_data['click_seq'][i],train_data['pos_item'][i])\n",
    "print('pass')"
   ]
  },
  {
   "cell_type": "code",
   "execution_count": 6,
   "id": "bb210095-893c-485d-aab4-16dcd3b3a441",
   "metadata": {},
   "outputs": [],
   "source": [
    "with open('/root/autodl-nas/workspace/datasets/kuairec/crp_small_matrix_train_data.pkl', 'wb') as f:\n",
    "    pickle.dump(train_data, f, -1)\n",
    "with open('/root/autodl-nas/workspace/datasets/kuairec/crp_small_matrix_test_data.pkl', 'wb') as f:\n",
    "    pickle.dump(test_data, f, -1)\n",
    "with open('/root/autodl-nas/workspace/datasets/kuairec/crp_small_matrix_val_data.pkl', 'wb') as f:\n",
    "    pickle.dump(val_data, f, -1)"
   ]
  },
  {
   "cell_type": "code",
   "execution_count": 7,
   "id": "f4bdaa90-fedc-4853-bf92-5701b365ac97",
   "metadata": {},
   "outputs": [
    {
     "name": "stderr",
     "output_type": "stream",
     "text": [
      "2022-12-09 14:55:01.874145: I tensorflow/core/util/cuda_solvers.cc:180] Creating CudaSolver handles for stream 0x55c3709f03b0\n",
      "2022-12-09 14:55:01.874591: I tensorflow/stream_executor/platform/default/dso_loader.cc:53] Successfully opened dynamic library libcusolver.so.11\n",
      "2022-12-09 14:55:03.736614: I tensorflow/stream_executor/platform/default/dso_loader.cc:53] Successfully opened dynamic library libcublas.so.11\n"
     ]
    },
    {
     "ename": "InvalidArgumentError",
     "evalue": "Input is not invertible. [Op:MatrixInverse]",
     "output_type": "error",
     "traceback": [
      "\u001b[0;31m---------------------------------------------------------------------------\u001b[0m",
      "\u001b[0;31mInvalidArgumentError\u001b[0m                      Traceback (most recent call last)",
      "\u001b[0;32m/tmp/ipykernel_2108/606490749.py\u001b[0m in \u001b[0;36m<module>\u001b[0;34m\u001b[0m\n\u001b[1;32m      1\u001b[0m \u001b[0;32mimport\u001b[0m \u001b[0mtensorflow\u001b[0m \u001b[0;32mas\u001b[0m \u001b[0mtf\u001b[0m\u001b[0;34m\u001b[0m\u001b[0;34m\u001b[0m\u001b[0m\n\u001b[1;32m      2\u001b[0m \u001b[0ma\u001b[0m\u001b[0;34m=\u001b[0m\u001b[0mtf\u001b[0m\u001b[0;34m.\u001b[0m\u001b[0mconstant\u001b[0m\u001b[0;34m(\u001b[0m\u001b[0;34m[\u001b[0m\u001b[0;34m[\u001b[0m\u001b[0;36m1\u001b[0m\u001b[0;34m,\u001b[0m\u001b[0;36m1\u001b[0m\u001b[0;34m,\u001b[0m\u001b[0;36m1\u001b[0m\u001b[0;34m,\u001b[0m\u001b[0;36m1.\u001b[0m\u001b[0;34m]\u001b[0m\u001b[0;34m,\u001b[0m\u001b[0;34m[\u001b[0m\u001b[0;36m1\u001b[0m\u001b[0;34m,\u001b[0m\u001b[0;36m1\u001b[0m\u001b[0;34m,\u001b[0m\u001b[0;36m1\u001b[0m\u001b[0;34m,\u001b[0m\u001b[0;36m1.\u001b[0m\u001b[0;34m]\u001b[0m\u001b[0;34m,\u001b[0m\u001b[0;34m[\u001b[0m\u001b[0;36m1\u001b[0m\u001b[0;34m,\u001b[0m\u001b[0;36m1\u001b[0m\u001b[0;34m,\u001b[0m\u001b[0;36m1\u001b[0m\u001b[0;34m,\u001b[0m\u001b[0;36m1.\u001b[0m\u001b[0;34m]\u001b[0m\u001b[0;34m,\u001b[0m\u001b[0;34m[\u001b[0m\u001b[0;36m1\u001b[0m\u001b[0;34m,\u001b[0m\u001b[0;36m1\u001b[0m\u001b[0;34m,\u001b[0m\u001b[0;36m1\u001b[0m\u001b[0;34m,\u001b[0m\u001b[0;36m1.\u001b[0m\u001b[0;34m]\u001b[0m\u001b[0;34m]\u001b[0m\u001b[0;34m)\u001b[0m\u001b[0;34m\u001b[0m\u001b[0;34m\u001b[0m\u001b[0m\n\u001b[0;32m----> 3\u001b[0;31m \u001b[0mtf\u001b[0m\u001b[0;34m.\u001b[0m\u001b[0mlinalg\u001b[0m\u001b[0;34m.\u001b[0m\u001b[0minv\u001b[0m\u001b[0;34m(\u001b[0m\u001b[0ma\u001b[0m\u001b[0;34m)\u001b[0m\u001b[0;34m\u001b[0m\u001b[0;34m\u001b[0m\u001b[0m\n\u001b[0m",
      "\u001b[0;32m~/miniconda3/lib/python3.8/site-packages/tensorflow/python/ops/gen_linalg_ops.py\u001b[0m in \u001b[0;36mmatrix_inverse\u001b[0;34m(input, adjoint, name)\u001b[0m\n\u001b[1;32m   1470\u001b[0m       \u001b[0;32mreturn\u001b[0m \u001b[0m_result\u001b[0m\u001b[0;34m\u001b[0m\u001b[0;34m\u001b[0m\u001b[0m\n\u001b[1;32m   1471\u001b[0m     \u001b[0;32mexcept\u001b[0m \u001b[0m_core\u001b[0m\u001b[0;34m.\u001b[0m\u001b[0m_NotOkStatusException\u001b[0m \u001b[0;32mas\u001b[0m \u001b[0me\u001b[0m\u001b[0;34m:\u001b[0m\u001b[0;34m\u001b[0m\u001b[0;34m\u001b[0m\u001b[0m\n\u001b[0;32m-> 1472\u001b[0;31m       \u001b[0m_ops\u001b[0m\u001b[0;34m.\u001b[0m\u001b[0mraise_from_not_ok_status\u001b[0m\u001b[0;34m(\u001b[0m\u001b[0me\u001b[0m\u001b[0;34m,\u001b[0m \u001b[0mname\u001b[0m\u001b[0;34m)\u001b[0m\u001b[0;34m\u001b[0m\u001b[0;34m\u001b[0m\u001b[0m\n\u001b[0m\u001b[1;32m   1473\u001b[0m     \u001b[0;32mexcept\u001b[0m \u001b[0m_core\u001b[0m\u001b[0;34m.\u001b[0m\u001b[0m_FallbackException\u001b[0m\u001b[0;34m:\u001b[0m\u001b[0;34m\u001b[0m\u001b[0;34m\u001b[0m\u001b[0m\n\u001b[1;32m   1474\u001b[0m       \u001b[0;32mpass\u001b[0m\u001b[0;34m\u001b[0m\u001b[0;34m\u001b[0m\u001b[0m\n",
      "\u001b[0;32m~/miniconda3/lib/python3.8/site-packages/tensorflow/python/framework/ops.py\u001b[0m in \u001b[0;36mraise_from_not_ok_status\u001b[0;34m(e, name)\u001b[0m\n\u001b[1;32m   6895\u001b[0m   \u001b[0mmessage\u001b[0m \u001b[0;34m=\u001b[0m \u001b[0me\u001b[0m\u001b[0;34m.\u001b[0m\u001b[0mmessage\u001b[0m \u001b[0;34m+\u001b[0m \u001b[0;34m(\u001b[0m\u001b[0;34m\" name: \"\u001b[0m \u001b[0;34m+\u001b[0m \u001b[0mname\u001b[0m \u001b[0;32mif\u001b[0m \u001b[0mname\u001b[0m \u001b[0;32mis\u001b[0m \u001b[0;32mnot\u001b[0m \u001b[0;32mNone\u001b[0m \u001b[0;32melse\u001b[0m \u001b[0;34m\"\"\u001b[0m\u001b[0;34m)\u001b[0m\u001b[0;34m\u001b[0m\u001b[0;34m\u001b[0m\u001b[0m\n\u001b[1;32m   6896\u001b[0m   \u001b[0;31m# pylint: disable=protected-access\u001b[0m\u001b[0;34m\u001b[0m\u001b[0;34m\u001b[0m\u001b[0;34m\u001b[0m\u001b[0m\n\u001b[0;32m-> 6897\u001b[0;31m   \u001b[0msix\u001b[0m\u001b[0;34m.\u001b[0m\u001b[0mraise_from\u001b[0m\u001b[0;34m(\u001b[0m\u001b[0mcore\u001b[0m\u001b[0;34m.\u001b[0m\u001b[0m_status_to_exception\u001b[0m\u001b[0;34m(\u001b[0m\u001b[0me\u001b[0m\u001b[0;34m.\u001b[0m\u001b[0mcode\u001b[0m\u001b[0;34m,\u001b[0m \u001b[0mmessage\u001b[0m\u001b[0;34m)\u001b[0m\u001b[0;34m,\u001b[0m \u001b[0;32mNone\u001b[0m\u001b[0;34m)\u001b[0m\u001b[0;34m\u001b[0m\u001b[0;34m\u001b[0m\u001b[0m\n\u001b[0m\u001b[1;32m   6898\u001b[0m   \u001b[0;31m# pylint: enable=protected-access\u001b[0m\u001b[0;34m\u001b[0m\u001b[0;34m\u001b[0m\u001b[0;34m\u001b[0m\u001b[0m\n\u001b[1;32m   6899\u001b[0m \u001b[0;34m\u001b[0m\u001b[0m\n",
      "\u001b[0;32m~/miniconda3/lib/python3.8/site-packages/six.py\u001b[0m in \u001b[0;36mraise_from\u001b[0;34m(value, from_value)\u001b[0m\n",
      "\u001b[0;31mInvalidArgumentError\u001b[0m: Input is not invertible. [Op:MatrixInverse]"
     ]
    }
   ],
   "source": [
    "import tensorflow as tf\n",
    "a=tf.constant([[1,1,1,1.],[1,1,1,1.],[1,1,1,1.],[1,1,1,1.]])\n",
    "tf.linalg.inv(a)"
   ]
  },
  {
   "cell_type": "code",
   "execution_count": null,
   "id": "89a5a949-388e-44cb-bc3a-97b94eacc269",
   "metadata": {},
   "outputs": [],
   "source": []
  }
 ],
 "metadata": {
  "kernelspec": {
   "display_name": "Python 3 (ipykernel)",
   "language": "python",
   "name": "python3"
  },
  "language_info": {
   "codemirror_mode": {
    "name": "ipython",
    "version": 3
   },
   "file_extension": ".py",
   "mimetype": "text/x-python",
   "name": "python",
   "nbconvert_exporter": "python",
   "pygments_lexer": "ipython3",
   "version": "3.8.10"
  }
 },
 "nbformat": 4,
 "nbformat_minor": 5
}
