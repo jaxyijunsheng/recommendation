{
 "cells": [
  {
   "cell_type": "code",
   "execution_count": null,
   "id": "f234bd2c-72c1-4747-8d78-5816bcf5f9f4",
   "metadata": {},
   "outputs": [],
   "source": [
    "import pickle\n",
    "len_seq=5\n",
    "with open('/root/autodl-nas/workspace/datasets/twitch/100k_c.pkl', 'rb') as f:    \n",
    "    user_dict = pickle.load(f)\n",
    "pop_user=[]\n",
    "for u in user_dict.keys():\n",
    "    if len(user_dict[u])<len_seq+3:\n",
    "        pop_user.append(u)\n",
    "for i in pop_user:\n",
    "    user_dict.pop(i)"
   ]
  },
  {
   "cell_type": "code",
   "execution_count": 54,
   "id": "7f637db9-ca58-47a6-aee7-45e77b74d669",
   "metadata": {},
   "outputs": [],
   "source": [
    "items_num=max(max(user_dict.values()))\n",
    "maxlen=30\n",
    "\n",
    "batch_size=512\n",
    "epoch_num=100\n",
    "hidden_size=64\n",
    "keep_rate=0.9\n",
    "layers_num=3\n",
    "num_heads=1\n",
    "interest_num=2\n",
    "kernel_size=4\n",
    "transformerencoder=0\n",
    "multi_dense=0\n",
    "neg_num=4\n",
    "test_neg_num=100"
   ]
  },
  {
   "cell_type": "code",
   "execution_count": 55,
   "id": "d5cef2ac-7b80-4e63-bae5-ca7fed45cf9c",
   "metadata": {},
   "outputs": [
    {
     "name": "stdout",
     "output_type": "stream",
     "text": [
      "74617\n"
     ]
    }
   ],
   "source": [
    "print(len(user_dict))"
   ]
  },
  {
   "cell_type": "code",
   "execution_count": 56,
   "id": "31541dcc-b06f-4707-8c20-869ab8a13725",
   "metadata": {},
   "outputs": [],
   "source": [
    "import random\n",
    "import numpy as np\n",
    "def sample(user_dict,maxlen,len_seq):\n",
    "    train_set=[]\n",
    "    train_val_set=[]\n",
    "    val_set=[]\n",
    "    test_set=[]\n",
    "    for u in user_dict.keys():\n",
    "        idx=0\n",
    "        hist=user_dict[u]        \n",
    "        hist=hist[-maxlen:-2]\n",
    "        #print(hist)\n",
    "        for i in range(1,len(hist)):\n",
    "            seq = np.zeros([len_seq], dtype=np.int32)\n",
    "            #print(hist[0:i])\n",
    "            seq[max(0,len_seq+idx-1):]=hist[max(0,i-len_seq):i]\n",
    "            idx+=-1\n",
    "            nxt = hist[i]\n",
    "            #print((u,seq,nxt))\n",
    "            train_set.append((u,list(seq),nxt))\n",
    "            #print(seq)\n",
    "        train_val_set.append((u,list(seq),nxt))\n",
    "        seq = np.zeros([len_seq], dtype=np.int32)\n",
    "        seq=hist[-len_seq-2:-2]\n",
    "        nxt = user_dict[u][-2]\n",
    "        val_set.append((u,list(seq),nxt))\n",
    "        seq = np.zeros([len_seq], dtype=np.int32)\n",
    "        seq=hist[-len_seq-1:-1]\n",
    "        nxt = user_dict[u][-1]\n",
    "        test_set.append((u,list(seq),nxt))\n",
    "    random.shuffle(train_set)\n",
    "    random.shuffle(test_set)\n",
    "    return train_set,test_set,val_set,train_val_set\n",
    "            \n",
    "def non_zero_sample(user_dict,maxlen,len_seq):\n",
    "    train_set=[]\n",
    "    test_set=[]\n",
    "    val_set=[]\n",
    "    train_val_set=[]\n",
    "    for u in user_dict.keys():\n",
    "        idx=0\n",
    "        original_hist=user_dict[u]        \n",
    "        seq = np.zeros([len_seq], dtype=np.int32)\n",
    "        #print(np.shape(seq[-maxlen:]))\n",
    "        while(len(original_hist)<len_seq+3):\n",
    "            original_hist.insert(0,0)\n",
    "        #print(len(hist),hist)\n",
    "        hist=original_hist[-maxlen:-2]\n",
    "        for i in range(len_seq,len(hist)):\n",
    "            seq = np.zeros([len_seq], dtype=np.int32)\n",
    "            #rint(hist[max(0,i-len_seq):i])\n",
    "            seq=hist[max(0,i-len_seq):i]\n",
    "            idx+=-1\n",
    "            nxt = hist[i]\n",
    "            #print((u,seq,nxt))\n",
    "            neg_item = [random.randint(1, items_num) for _ in range(neg_num)]\n",
    "            train_set.append((u,list(seq),nxt,neg_item))\n",
    "            #print(seq)\n",
    "        #print(np.shape(hist[0:len(hist)-1]))\n",
    "        train_val_set.append((u,list(seq),nxt))\n",
    "        \n",
    "        seq = np.zeros([len_seq], dtype=np.int32)\n",
    "        seq=original_hist[-len_seq-2:-2]\n",
    "        nxt = original_hist[-2]\n",
    "        neg_item = [random.randint(1, items_num) for _ in range(neg_num)]\n",
    "        val_set.append((u,list(seq),nxt,neg_item))\n",
    "        \n",
    "        seq = np.zeros([len_seq], dtype=np.int32)\n",
    "        seq=original_hist[-len_seq-1:-1]\n",
    "        nxt = original_hist[-1]\n",
    "        neg_item = [random.randint(1, items_num) for _ in range(test_neg_num)]\n",
    "        test_set.append((u,list(seq),nxt,neg_item))\n",
    "    random.shuffle(train_set)\n",
    "    random.shuffle(test_set)\n",
    "    return train_set,test_set ,val_set,train_val_set   "
   ]
  },
  {
   "cell_type": "code",
   "execution_count": 57,
   "id": "74d0ca26-d9c4-4aad-9383-9ab1133a7b07",
   "metadata": {},
   "outputs": [
    {
     "name": "stdout",
     "output_type": "stream",
     "text": [
      "1075499 74617 74617 74617\n"
     ]
    }
   ],
   "source": [
    "train_set,test_set,val_set,train_val_set=non_zero_sample(user_dict,maxlen,len_seq)\n",
    "print(len(train_set),len(test_set),len(val_set),len(train_val_set))\n",
    "users_num=len(test_set)"
   ]
  },
  {
   "cell_type": "code",
   "execution_count": 58,
   "id": "60cab0a0-71a3-4a73-bf5c-b04d17657658",
   "metadata": {},
   "outputs": [],
   "source": [
    "users, click_seqs, pos_items,neg_items = zip(*train_set)\n",
    "train_data = {'click_seq': np.array(click_seqs), 'pos_item': np.array(pos_items),'neg_item':np.array(neg_items)}\n",
    "\n",
    "users, click_seqs, pos_items,neg_items = zip(*test_set)\n",
    "test_data = {'click_seq': np.array(click_seqs), 'pos_item': np.array(pos_items),'neg_item':np.array(neg_items)}\n",
    "\n",
    "users, click_seqs, pos_items,neg_items = zip(*val_set)\n",
    "val_data = {'click_seq': np.array(click_seqs), 'pos_item': np.array(pos_items),'neg_item':np.array(neg_items)}"
   ]
  },
  {
   "cell_type": "code",
   "execution_count": 59,
   "id": "78281f0f-962b-404d-bac4-064ef732e186",
   "metadata": {},
   "outputs": [],
   "source": [
    "with open('/root/autodl-nas/workspace/datasets/twitch/twitch_train_data.pkl', 'wb') as f:\n",
    "    pickle.dump(train_data, f, -1)\n",
    "with open('/root/autodl-nas/workspace/datasets/twitch/twitch_test_data.pkl', 'wb') as f:\n",
    "    pickle.dump(test_data, f, -1)\n",
    "with open('/root/autodl-nas/workspace/datasets/twitch/twitch_val_data.pkl', 'wb') as f:\n",
    "    pickle.dump(val_data, f, -1)"
   ]
  },
  {
   "cell_type": "code",
   "execution_count": 60,
   "id": "c2d56bc6-f62e-4713-bb2b-c9abef120239",
   "metadata": {},
   "outputs": [],
   "source": [
    "with open('/root/autodl-nas/workspace/datasets/twitch/twitch_train_data.pkl', 'rb') as f:\n",
    "    train_data=pickle.load(f)\n",
    "with open('/root/autodl-nas/workspace/datasets/twitch/twitch_test_data.pkl', 'rb') as f:\n",
    "    test_data=pickle.load(f)\n",
    "with open('/root/autodl-nas/workspace/datasets/twitch/twitch_val_data.pkl', 'rb') as f:\n",
    "    val_data=pickle.load(f)"
   ]
  },
  {
   "cell_type": "code",
   "execution_count": 61,
   "id": "db68c42d-db2c-43b1-a44b-7d56b6b8216c",
   "metadata": {},
   "outputs": [
    {
     "name": "stdout",
     "output_type": "stream",
     "text": [
      "(1075499, 5) (74617, 100) (74617, 4)\n"
     ]
    }
   ],
   "source": [
    "print(np.shape(train_data['click_seq']),np.shape(test_data['neg_item']),np.shape(val_data['neg_item']))"
   ]
  },
  {
   "cell_type": "code",
   "execution_count": 33,
   "id": "f2e45166-c5bf-4f2b-b67e-1216105ceaeb",
   "metadata": {},
   "outputs": [
    {
     "name": "stdout",
     "output_type": "stream",
     "text": [
      "0\n",
      "500000\n",
      "1000000\n",
      "0\n",
      "500000\n",
      "1000000\n",
      "pass\n"
     ]
    }
   ],
   "source": [
    "for i in range(len(train_data['click_seq'])):\n",
    "    if i%500000==0:\n",
    "        print(i)\n",
    "    if list(test_data['click_seq'][0])==list(train_data['click_seq'][i]):\n",
    "        print(test_data['click_seq'][0],test_data['pos_item'][0],train_data['click_seq'][i],train_data['pos_item'][i])\n",
    "for i in range(len(train_data['click_seq'])):\n",
    "    if i%500000==0:\n",
    "        print(i)\n",
    "    if list(val_data['click_seq'][0])==list(train_data['click_seq'][i]):\n",
    "        print(val_data['click_seq'][0],val_data['pos_item'][0],train_data['click_seq'][i],train_data['pos_item'][i])\n",
    "print('pass')"
   ]
  },
  {
   "cell_type": "code",
   "execution_count": 34,
   "id": "3c24aef2-15df-4d2f-a9d4-48b9de7aa66e",
   "metadata": {},
   "outputs": [],
   "source": [
    "import pickle\n",
    "with open('/root/autodl-nas/workspace/datasets/twitch/100k_c.pkl', 'rb') as f:    \n",
    "    user_dict = pickle.load(f)"
   ]
  },
  {
   "cell_type": "code",
   "execution_count": 50,
   "id": "58c00e24-9008-47e3-ba53-b58df948a3ea",
   "metadata": {},
   "outputs": [],
   "source": [
    "inte_lenth=[]\n",
    "for i in user_dict.keys():\n",
    "    inte_lenth.append(len(user_dict[i]))"
   ]
  },
  {
   "cell_type": "code",
   "execution_count": 51,
   "id": "d29dd176-4076-48bb-a273-63ad8c731982",
   "metadata": {},
   "outputs": [
    {
     "data": {
      "text/plain": [
       "32.28107995942082"
      ]
     },
     "execution_count": 51,
     "metadata": {},
     "output_type": "execute_result"
    }
   ],
   "source": [
    "import numpy as np\n",
    "np.mean(inte_lenth)"
   ]
  },
  {
   "cell_type": "code",
   "execution_count": 52,
   "id": "c19ef0ee-ecc0-4f39-b5b8-b0d3e657074d",
   "metadata": {},
   "outputs": [
    {
     "data": {
      "text/plain": [
       "array([10., 19., 42.])"
      ]
     },
     "execution_count": 52,
     "metadata": {},
     "output_type": "execute_result"
    }
   ],
   "source": [
    "\n",
    "np.percentile(inte_lenth, (25, 50, 75), interpolation='midpoint')"
   ]
  },
  {
   "cell_type": "code",
   "execution_count": null,
   "id": "fdd9284b-155f-43ee-ba90-b6cc093b7146",
   "metadata": {},
   "outputs": [],
   "source": [
    "for i in range(1,100):\n",
    "    print(user_dict[i])"
   ]
  },
  {
   "cell_type": "code",
   "execution_count": null,
   "id": "6789f49d-8474-47aa-9a4e-7e271faa3c6d",
   "metadata": {},
   "outputs": [],
   "source": []
  },
  {
   "cell_type": "code",
   "execution_count": null,
   "id": "740407b6-6fd5-40cb-baaf-ac8f02d2755e",
   "metadata": {},
   "outputs": [],
   "source": []
  }
 ],
 "metadata": {
  "kernelspec": {
   "display_name": "Python 3 (ipykernel)",
   "language": "python",
   "name": "python3"
  },
  "language_info": {
   "codemirror_mode": {
    "name": "ipython",
    "version": 3
   },
   "file_extension": ".py",
   "mimetype": "text/x-python",
   "name": "python",
   "nbconvert_exporter": "python",
   "pygments_lexer": "ipython3",
   "version": "3.8.10"
  }
 },
 "nbformat": 4,
 "nbformat_minor": 5
}
