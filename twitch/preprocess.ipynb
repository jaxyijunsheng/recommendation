{
 "cells": [
  {
   "cell_type": "code",
   "execution_count": 16,
   "id": "f234bd2c-72c1-4747-8d78-5816bcf5f9f4",
   "metadata": {},
   "outputs": [],
   "source": [
    "import pickle\n",
    "len_seq=5\n",
    "with open('/root/autodl-nas/workspace/datasets/twitch/100k_c.pkl', 'rb') as f:    \n",
    "    user_dict = pickle.load(f)\n",
    "pop_user=[]\n",
    "for u in user_dict.keys():\n",
    "    if len(user_dict[u])<len_seq+3:\n",
    "        pop_user.append(u)\n",
    "for i in pop_user:\n",
    "    user_dict.pop(i)"
   ]
  },
  {
   "cell_type": "code",
   "execution_count": 17,
   "id": "7f637db9-ca58-47a6-aee7-45e77b74d669",
   "metadata": {},
   "outputs": [],
   "source": [
    "items_num=max(max(user_dict.values()))\n",
    "maxlen=30\n",
    "\n",
    "batch_size=512\n",
    "epoch_num=100\n",
    "hidden_size=64\n",
    "keep_rate=0.9\n",
    "layers_num=3\n",
    "num_heads=1\n",
    "interest_num=2\n",
    "kernel_size=4\n",
    "transformerencoder=0\n",
    "multi_dense=0\n",
    "neg_num=4\n",
    "test_neg_num=1000"
   ]
  },
  {
   "cell_type": "code",
   "execution_count": 18,
   "id": "d5cef2ac-7b80-4e63-bae5-ca7fed45cf9c",
   "metadata": {},
   "outputs": [
    {
     "name": "stdout",
     "output_type": "stream",
     "text": [
      "74617\n"
     ]
    }
   ],
   "source": [
    "print(len(user_dict))"
   ]
  },
  {
   "cell_type": "code",
   "execution_count": 19,
   "id": "31541dcc-b06f-4707-8c20-869ab8a13725",
   "metadata": {},
   "outputs": [],
   "source": [
    "import random\n",
    "import numpy as np\n",
    "def sample(user_dict,maxlen,len_seq):\n",
    "    train_set=[]\n",
    "    train_val_set=[]\n",
    "    val_set=[]\n",
    "    test_set=[]\n",
    "    for u in user_dict.keys():\n",
    "        idx=0\n",
    "        hist=user_dict[u]        \n",
    "        hist=hist[-maxlen:-2]\n",
    "        #print(hist)\n",
    "        for i in range(1,len(hist)):\n",
    "            seq = np.zeros([len_seq], dtype=np.int32)\n",
    "            #print(hist[0:i])\n",
    "            seq[max(0,len_seq+idx-1):]=hist[max(0,i-len_seq):i]\n",
    "            idx+=-1\n",
    "            nxt = hist[i]\n",
    "            #print((u,seq,nxt))\n",
    "            train_set.append((u,list(seq),nxt))\n",
    "            #print(seq)\n",
    "        train_val_set.append((u,list(seq),nxt))\n",
    "        seq = np.zeros([len_seq], dtype=np.int32)\n",
    "        seq=hist[-len_seq-2:-2]\n",
    "        nxt = user_dict[u][-2]\n",
    "        val_set.append((u,list(seq),nxt))\n",
    "        seq = np.zeros([len_seq], dtype=np.int32)\n",
    "        seq=hist[-len_seq-1:-1]\n",
    "        nxt = user_dict[u][-1]\n",
    "        test_set.append((u,list(seq),nxt))\n",
    "    random.shuffle(train_set)\n",
    "    random.shuffle(test_set)\n",
    "    return train_set,test_set,val_set,train_val_set\n",
    "            \n",
    "def non_zero_sample(user_dict,maxlen,len_seq):\n",
    "    train_set=[]\n",
    "    test_set=[]\n",
    "    val_set=[]\n",
    "    train_val_set=[]\n",
    "    for u in user_dict.keys():\n",
    "        idx=0\n",
    "        original_hist=user_dict[u]        \n",
    "        seq = np.zeros([len_seq], dtype=np.int32)\n",
    "        #print(np.shape(seq[-maxlen:]))\n",
    "        while(len(original_hist)<len_seq+3):\n",
    "            original_hist.insert(0,0)\n",
    "        #print(len(hist),hist)\n",
    "        hist=original_hist[-maxlen:-2]\n",
    "        for i in range(len_seq,len(hist)):\n",
    "            seq = np.zeros([len_seq], dtype=np.int32)\n",
    "            #rint(hist[max(0,i-len_seq):i])\n",
    "            seq=hist[max(0,i-len_seq):i]\n",
    "            idx+=-1\n",
    "            nxt = hist[i]\n",
    "            #print((u,seq,nxt))\n",
    "            neg_item = [random.randint(1, items_num) for _ in range(neg_num)]\n",
    "            train_set.append((u,list(seq),nxt,neg_item))\n",
    "            #print(seq)\n",
    "        #print(np.shape(hist[0:len(hist)-1]))\n",
    "        train_val_set.append((u,list(seq),nxt))\n",
    "        \n",
    "        seq = np.zeros([len_seq], dtype=np.int32)\n",
    "        seq=original_hist[-len_seq-2:-2]\n",
    "        nxt = original_hist[-2]\n",
    "        neg_item = [random.randint(1, items_num) for _ in range(neg_num)]\n",
    "        val_set.append((u,list(seq),nxt,neg_item))\n",
    "        \n",
    "        seq = np.zeros([len_seq], dtype=np.int32)\n",
    "        seq=original_hist[-len_seq-1:-1]\n",
    "        nxt = original_hist[-1]\n",
    "        neg_item = [random.randint(1, items_num) for _ in range(test_neg_num)]\n",
    "        test_set.append((u,list(seq),nxt,neg_item))\n",
    "    random.shuffle(train_set)\n",
    "    random.shuffle(test_set)\n",
    "    return train_set,test_set ,val_set,train_val_set   "
   ]
  },
  {
   "cell_type": "code",
   "execution_count": 20,
   "id": "74d0ca26-d9c4-4aad-9383-9ab1133a7b07",
   "metadata": {},
   "outputs": [
    {
     "name": "stdout",
     "output_type": "stream",
     "text": [
      "1075499 74617 74617 74617\n"
     ]
    }
   ],
   "source": [
    "train_set,test_set,val_set,train_val_set=non_zero_sample(user_dict,maxlen,len_seq)\n",
    "print(len(train_set),len(test_set),len(val_set),len(train_val_set))\n",
    "users_num=len(test_set)"
   ]
  },
  {
   "cell_type": "code",
   "execution_count": 21,
   "id": "60cab0a0-71a3-4a73-bf5c-b04d17657658",
   "metadata": {},
   "outputs": [],
   "source": [
    "users, click_seqs, pos_items,neg_items = zip(*train_set)\n",
    "train_data = {'click_seq': np.array(click_seqs), 'pos_item': np.array(pos_items),'neg_item':np.array(neg_items)}\n",
    "\n",
    "users, click_seqs, pos_items,neg_items = zip(*test_set)\n",
    "test_data = {'click_seq': np.array(click_seqs), 'pos_item': np.array(pos_items),'neg_item':np.array(neg_items)}\n",
    "\n",
    "users, click_seqs, pos_items,neg_items = zip(*val_set)\n",
    "val_data = {'click_seq': np.array(click_seqs), 'pos_item': np.array(pos_items),'neg_item':np.array(neg_items)}"
   ]
  },
  {
   "cell_type": "code",
   "execution_count": 22,
   "id": "78281f0f-962b-404d-bac4-064ef732e186",
   "metadata": {},
   "outputs": [],
   "source": [
    "with open('/root/autodl-nas/workspace/datasets/twitch/twitch_train_data.pkl', 'wb') as f:\n",
    "    pickle.dump(train_data, f, -1)\n",
    "with open('/root/autodl-nas/workspace/datasets/twitch/twitch_test_data.pkl', 'wb') as f:\n",
    "    pickle.dump(test_data, f, -1)\n",
    "with open('/root/autodl-nas/workspace/datasets/twitch/twitch_val_data.pkl', 'wb') as f:\n",
    "    pickle.dump(val_data, f, -1)"
   ]
  },
  {
   "cell_type": "code",
   "execution_count": 23,
   "id": "c2d56bc6-f62e-4713-bb2b-c9abef120239",
   "metadata": {},
   "outputs": [],
   "source": [
    "with open('/root/autodl-nas/workspace/datasets/twitch/twitch_train_data.pkl', 'rb') as f:\n",
    "    train_data=pickle.load(f)\n",
    "with open('/root/autodl-nas/workspace/datasets/twitch/twitch_test_data.pkl', 'rb') as f:\n",
    "    test_data=pickle.load(f)\n",
    "with open('/root/autodl-nas/workspace/datasets/twitch/twitch_val_data.pkl', 'rb') as f:\n",
    "    val_data=pickle.load(f)"
   ]
  },
  {
   "cell_type": "code",
   "execution_count": 24,
   "id": "db68c42d-db2c-43b1-a44b-7d56b6b8216c",
   "metadata": {},
   "outputs": [
    {
     "name": "stdout",
     "output_type": "stream",
     "text": [
      "(1075499, 5) (74617, 1000) (74617, 4)\n"
     ]
    }
   ],
   "source": [
    "print(np.shape(train_data['click_seq']),np.shape(test_data['neg_item']),np.shape(val_data['neg_item']))"
   ]
  },
  {
   "cell_type": "code",
   "execution_count": 33,
   "id": "f2e45166-c5bf-4f2b-b67e-1216105ceaeb",
   "metadata": {},
   "outputs": [
    {
     "name": "stdout",
     "output_type": "stream",
     "text": [
      "0\n",
      "500000\n",
      "1000000\n",
      "0\n",
      "500000\n",
      "1000000\n",
      "pass\n"
     ]
    }
   ],
   "source": [
    "for i in range(len(train_data['click_seq'])):\n",
    "    if i%500000==0:\n",
    "        print(i)\n",
    "    if list(test_data['click_seq'][0])==list(train_data['click_seq'][i]):\n",
    "        print(test_data['click_seq'][0],test_data['pos_item'][0],train_data['click_seq'][i],train_data['pos_item'][i])\n",
    "for i in range(len(train_data['click_seq'])):\n",
    "    if i%500000==0:\n",
    "        print(i)\n",
    "    if list(val_data['click_seq'][0])==list(train_data['click_seq'][i]):\n",
    "        print(val_data['click_seq'][0],val_data['pos_item'][0],train_data['click_seq'][i],train_data['pos_item'][i])\n",
    "print('pass')"
   ]
  },
  {
   "cell_type": "code",
   "execution_count": 34,
   "id": "3c24aef2-15df-4d2f-a9d4-48b9de7aa66e",
   "metadata": {},
   "outputs": [],
   "source": [
    "import pickle\n",
    "with open('/root/autodl-nas/workspace/datasets/twitch/100k_c.pkl', 'rb') as f:    \n",
    "    user_dict = pickle.load(f)"
   ]
  },
  {
   "cell_type": "code",
   "execution_count": 50,
   "id": "58c00e24-9008-47e3-ba53-b58df948a3ea",
   "metadata": {},
   "outputs": [],
   "source": [
    "inte_lenth=[]\n",
    "for i in user_dict.keys():\n",
    "    inte_lenth.append(len(user_dict[i]))"
   ]
  },
  {
   "cell_type": "code",
   "execution_count": 51,
   "id": "d29dd176-4076-48bb-a273-63ad8c731982",
   "metadata": {},
   "outputs": [
    {
     "data": {
      "text/plain": [
       "32.28107995942082"
      ]
     },
     "execution_count": 51,
     "metadata": {},
     "output_type": "execute_result"
    }
   ],
   "source": [
    "import numpy as np\n",
    "np.mean(inte_lenth)"
   ]
  },
  {
   "cell_type": "code",
   "execution_count": 52,
   "id": "c19ef0ee-ecc0-4f39-b5b8-b0d3e657074d",
   "metadata": {},
   "outputs": [
    {
     "data": {
      "text/plain": [
       "array([10., 19., 42.])"
      ]
     },
     "execution_count": 52,
     "metadata": {},
     "output_type": "execute_result"
    }
   ],
   "source": [
    "\n",
    "np.percentile(inte_lenth, (25, 50, 75), interpolation='midpoint')"
   ]
  },
  {
   "cell_type": "code",
   "execution_count": 7,
   "id": "fdd9284b-155f-43ee-ba90-b6cc093b7146",
   "metadata": {},
   "outputs": [
    {
     "data": {
      "text/plain": [
       "array([[16899,  6081,   690,  2824,  2465],\n",
       "       [27431, 12413,  2409, 11809, 10835],\n",
       "       [ 2733,  3710,  2946,  2946, 20576],\n",
       "       [ 3758, 38168,  1694,  3758, 38168],\n",
       "       [ 9632,  2345,   191, 24833,  5697],\n",
       "       [   43,  2425,    43,  2561,     9],\n",
       "       [   49,  3455,   187,   898,   187],\n",
       "       [  274,    99,    99,    48,  7138],\n",
       "       [ 4457,  3250,   293,  1295,   301],\n",
       "       [  395,  2255,   371,   367,   715],\n",
       "       [ 1693,   107,  1154,  1132,   305],\n",
       "       [   54,    54,   468,   468,   573],\n",
       "       [   54,   632,    99,   183,   710],\n",
       "       [  233,    16,   233,    16,    16],\n",
       "       [  314,   305,  1840,  1619,   314],\n",
       "       [  193,   201,   696,  5809,  2169],\n",
       "       [  143, 30444,  3003,   133,  1790],\n",
       "       [  526,    50,   100,    50,   100],\n",
       "       [ 1584, 10397,  2401,  2401,  1065],\n",
       "       [ 6954, 11311, 29610,  9999, 33631],\n",
       "       [  658,   269,   263,   265,   265],\n",
       "       [ 3950, 16148,  2881, 10137, 16148],\n",
       "       [ 3673,  9557,  3674,  9557, 14288],\n",
       "       [  685,   110,   994,   996,  1004],\n",
       "       [ 9206,    89,  1341,    92, 13315],\n",
       "       [ 1553,  1553,  1553,  1553,  1553],\n",
       "       [17715,  1975, 14071,  1471,  1975],\n",
       "       [  678,  1727,   785, 20307,  4059],\n",
       "       [  659,   659,  1299,  4469,   506],\n",
       "       [34537, 10540, 19017, 29885,   672],\n",
       "       [ 3480,  3480,  3480,  2623,  3480],\n",
       "       [ 2117,  2296,  3469,   830,   656],\n",
       "       [ 3214,   303,   303,   498,   561],\n",
       "       [ 2827,   930,   932,   930,   932],\n",
       "       [ 5502, 18414, 18764, 14103,  7072],\n",
       "       [ 3739,  2491,   790,   706,   150],\n",
       "       [ 2046,    54,   824,  2117,    98],\n",
       "       [ 3805,  4226,   877, 28206,   877],\n",
       "       [ 4124,  7561, 10160,  8124,  1784],\n",
       "       [10398,  5527,  1245,  2401, 27102],\n",
       "       [26994,   293,   293,  2409,  1316],\n",
       "       [12542,   100,  3001,    50,   101],\n",
       "       [17296,  6973,  1976,  6660,  7377],\n",
       "       [ 1553,  1553,  1553,  1553,  1553],\n",
       "       [ 5948,   105,   105,  2029,  4254],\n",
       "       [18177,  3224, 18177, 36732, 40730],\n",
       "       [ 2074, 10720,  1504,    56, 10720],\n",
       "       [    7,     7,  1732,  1737,  5907],\n",
       "       [  634,    54,   572,   572,    54],\n",
       "       [  303,  4965,   303,   303,   453],\n",
       "       [ 3223, 15665,  4003, 15665,  4003],\n",
       "       [ 5993, 37503,  2501,  3963,  2501],\n",
       "       [42119, 20273, 42119,  3018, 42119],\n",
       "       [ 1600,  1419,  7185,  1494,  1419],\n",
       "       [   98,   103, 11616, 11618,   960],\n",
       "       [  888,   615,   888,  1490,  1490],\n",
       "       [  427,   839,  1210,   150,  1816],\n",
       "       [  672,  3214,  5502,   305,  5217],\n",
       "       [   42,    95,    96,   277,   192],\n",
       "       [  866,  1349,  3790,  1349,  3790],\n",
       "       [  932, 10938, 19456, 16924,  5424],\n",
       "       [ 7204,  2141,  7204,   145,   833],\n",
       "       [  137,  9834,  9367,  9834,  5442],\n",
       "       [14242, 24556,   819, 14242,  3868],\n",
       "       [  481,    49,   902, 38747,   907],\n",
       "       [ 2900,  1293,  3953,  3953, 11260],\n",
       "       [ 9326,  1153,  9326, 15002,  9329],\n",
       "       [ 6254,  2500,  6254,  2757,   185],\n",
       "       [ 1164,   769,  1164,  1164,  1164],\n",
       "       [  793,  1485,  3052,   794,   785],\n",
       "       [  265,   106,   256, 13053, 11793],\n",
       "       [12452,  5660, 12438, 12438, 12451],\n",
       "       [ 2027,  2027,  2115,  2032,  2027],\n",
       "       [13647, 13647, 13647, 13647, 13647],\n",
       "       [   50,    54,    50,    50,   274],\n",
       "       [ 1243,   539,   288,  1243,   288],\n",
       "       [ 1558,   305,   305,  4326,   932],\n",
       "       [15250, 18831, 13535,  4881,  1786],\n",
       "       [  790,   833,    16,  3868,   819],\n",
       "       [ 1420,  1419,  1420,  5127,  1420],\n",
       "       [23085, 23085,  8691,  8694,  5070],\n",
       "       [    0,   305,  1627, 16289,  1004],\n",
       "       [ 3066,   932,   932,   145,   672],\n",
       "       [15313, 20366, 12342,  3367,  6326],\n",
       "       [ 6582,  4272,   561,   354,   561],\n",
       "       [33124, 33124,  5686, 21141, 32107],\n",
       "       [ 6724,   192,   274,   192,   192],\n",
       "       [21219, 21219,   234,   699, 32712],\n",
       "       [11150,   793,    16,   991,  1287],\n",
       "       [12307,  9024,  6556,  6556, 15937],\n",
       "       [  274,    50,   192,  1694,    90],\n",
       "       [ 1627,     0,  1627,  1627,   403],\n",
       "       [ 1505,  1505,   659,  2096,  9905],\n",
       "       [18708,  5501,  1906,  8539,  5891],\n",
       "       [  150,   991, 41720, 41720, 41720],\n",
       "       [ 1842,  3245,  1477,  2517,  5627],\n",
       "       [ 7745, 40360, 40360, 40361, 11503],\n",
       "       [  416,  3114,   969,  2091,    50],\n",
       "       [ 1420,  1420,   908,  1420,   891],\n",
       "       [ 2140,   212,   344,  2140,   344]])"
      ]
     },
     "execution_count": 7,
     "metadata": {},
     "output_type": "execute_result"
    }
   ],
   "source": [
    "train_data['click_seq'][0:100]"
   ]
  },
  {
   "cell_type": "code",
   "execution_count": 10,
   "id": "6789f49d-8474-47aa-9a4e-7e271faa3c6d",
   "metadata": {},
   "outputs": [
    {
     "data": {
      "text/plain": [
       "array([29327, 31321, 39634, 19427, 27842, 29245, 14063, 22930,  5291,\n",
       "         753,  9740, 19366, 27359, 37451, 18612, 11028, 31973, 23062,\n",
       "       18702, 11067,  1561,  9303,  3992, 16071, 28932,  7286,  9267,\n",
       "       27365,  4478, 25844, 10509, 31770, 18680,  3792, 16586, 10335,\n",
       "       27264,  2248, 31893, 28644, 25590, 16950, 40710,  2836, 38193,\n",
       "       14787, 39916, 13253, 41215, 23710, 12310, 27812,  1829, 13697,\n",
       "        8109, 25846, 43108, 27653, 36661, 17129, 11990,  7682, 31439,\n",
       "       12099, 37552, 38692, 23979, 16651, 17621,  4880, 37641, 22882,\n",
       "       24655, 27989,  1127, 29921, 31246, 40672, 15304, 31104, 25868,\n",
       "       28267, 35669, 39220, 24032,  2724, 26351, 36428, 31334,  5352,\n",
       "       25268, 37939, 34224,  7965, 27974, 20753, 13832, 25487, 10664,\n",
       "        8953])"
      ]
     },
     "execution_count": 10,
     "metadata": {},
     "output_type": "execute_result"
    }
   ],
   "source": [
    "test_data['neg_item'][1]"
   ]
  },
  {
   "cell_type": "code",
   "execution_count": null,
   "id": "740407b6-6fd5-40cb-baaf-ac8f02d2755e",
   "metadata": {},
   "outputs": [],
   "source": []
  }
 ],
 "metadata": {
  "kernelspec": {
   "display_name": "Python 3 (ipykernel)",
   "language": "python",
   "name": "python3"
  },
  "language_info": {
   "codemirror_mode": {
    "name": "ipython",
    "version": 3
   },
   "file_extension": ".py",
   "mimetype": "text/x-python",
   "name": "python",
   "nbconvert_exporter": "python",
   "pygments_lexer": "ipython3",
   "version": "3.8.10"
  }
 },
 "nbformat": 4,
 "nbformat_minor": 5
}
