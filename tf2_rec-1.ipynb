{
 "cells": [
  {
   "cell_type": "code",
   "execution_count": 1,
   "id": "3dd98390-6cf1-4188-8828-d9bbbeea1bd6",
   "metadata": {},
   "outputs": [],
   "source": [
    "import tensorflow as tf\n",
    "import numpy as np"
   ]
  },
  {
   "cell_type": "code",
   "execution_count": 2,
   "id": "4c3b8cca-95eb-4e76-af74-8467884552ef",
   "metadata": {},
   "outputs": [
    {
     "name": "stdout",
     "output_type": "stream",
     "text": [
      "2.6.0\n"
     ]
    }
   ],
   "source": [
    "print(tf.__version__)"
   ]
  },
  {
   "cell_type": "code",
   "execution_count": 3,
   "id": "c58dfbfa-9e1a-4b74-aa4a-58905907a67d",
   "metadata": {},
   "outputs": [],
   "source": [
    "import pandas as pd\n",
    "import pickle"
   ]
  },
  {
   "cell_type": "code",
   "execution_count": 4,
   "id": "b4a9ec17-4926-453d-8ca9-9113908b350d",
   "metadata": {},
   "outputs": [],
   "source": [
    "import pickle\n",
    "with open('/mnt/datasets/ml/ml-1m/all_ratings.pkl', 'rb') as f:    \n",
    "    user_dict = pickle.load(f)\n",
    "items_num=3416\n",
    "maxlen=50\n",
    "len_seq=10\n",
    "batch_size=512\n",
    "epoch_num=20\n",
    "hidden_size=64\n",
    "keep_rate=0.9\n",
    "layers_num=2\n",
    "num_interest=1\n",
    "neg_num=4\n",
    "test_neg_num=1000"
   ]
  },
  {
   "cell_type": "code",
   "execution_count": 5,
   "id": "91fd2c73-3e4f-449e-aef3-88288de30804",
   "metadata": {},
   "outputs": [],
   "source": [
    "import random\n",
    "import numpy as np\n",
    "def sample(user_dict,maxlen,len_seq):\n",
    "    train_set=[]\n",
    "    train_val_set=[]\n",
    "    val_set=[]\n",
    "    test_set=[]\n",
    "    for u in user_dict.keys():\n",
    "        idx=0\n",
    "        hist=user_dict[u]        \n",
    "        hist=hist[-maxlen:-2]\n",
    "        #print(hist)\n",
    "        for i in range(1,len(hist)):\n",
    "            seq = np.zeros([len_seq], dtype=np.int32)\n",
    "            #print(hist[0:i])\n",
    "            seq[max(0,len_seq+idx-1):]=hist[max(0,i-len_seq):i]\n",
    "            idx+=-1\n",
    "            nxt = hist[i]\n",
    "            #print((u,seq,nxt))\n",
    "            train_set.append((u,list(seq),nxt))\n",
    "            #print(seq)\n",
    "        train_val_set.append((u,list(seq),nxt))\n",
    "        seq = np.zeros([len_seq], dtype=np.int32)\n",
    "        seq=hist[-len_seq-2:-2]\n",
    "        nxt = user_dict[u][-2]\n",
    "        val_set.append((u,list(seq),nxt))\n",
    "        seq = np.zeros([len_seq], dtype=np.int32)\n",
    "        seq=hist[-len_seq-1:-1]\n",
    "        nxt = user_dict[u][-1]\n",
    "        test_set.append((u,list(seq),nxt))\n",
    "    random.shuffle(train_set)\n",
    "    random.shuffle(test_set)\n",
    "    return train_set,test_set,val_set,train_val_set\n",
    "            \n",
    "def non_zero_sample(user_dict,maxlen,len_seq):\n",
    "    train_set=[]\n",
    "    test_set=[]\n",
    "    val_set=[]\n",
    "    train_val_set=[]\n",
    "    for u in user_dict.keys():\n",
    "        idx=0\n",
    "        hist=user_dict[u]        \n",
    "        seq = np.zeros([len_seq], dtype=np.int32)\n",
    "        #print(np.shape(seq[-maxlen:]))\n",
    "        while(len(hist)<maxlen):\n",
    "            hist.insert(0,0)\n",
    "        #print(len(hist),hist)\n",
    "        hist=hist[-maxlen:-2]\n",
    "        for i in range(len_seq,len(hist)):\n",
    "            seq = np.zeros([len_seq], dtype=np.int32)\n",
    "            #rint(hist[max(0,i-len_seq):i])\n",
    "            seq=hist[max(0,i-len_seq):i]\n",
    "            idx+=-1\n",
    "            nxt = hist[i]\n",
    "            #print((u,seq,nxt))\n",
    "            neg_item = [random.randint(1, items_num) for _ in range(neg_num)]\n",
    "            train_set.append((u,list(seq),nxt,neg_item))\n",
    "            #print(seq)\n",
    "        #print(np.shape(hist[0:len(hist)-1]))\n",
    "        train_val_set.append((u,list(seq),nxt))\n",
    "        seq = np.zeros([len_seq], dtype=np.int32)\n",
    "        seq=hist[-len_seq-2:-2]\n",
    "        nxt = user_dict[u][-2]\n",
    "        neg_item = [random.randint(1, items_num) for _ in range(neg_num)]\n",
    "        val_set.append((u,list(seq),nxt,neg_item))\n",
    "        seq = np.zeros([len_seq], dtype=np.int32)\n",
    "        seq=hist[-len_seq-1:-1]\n",
    "        nxt = user_dict[u][-1]\n",
    "        neg_item = [random.randint(1, items_num) for _ in range(test_neg_num)]\n",
    "        test_set.append((u,list(seq),nxt,neg_item))\n",
    "    random.shuffle(train_set)\n",
    "    random.shuffle(test_set)\n",
    "    return train_set,test_set ,val_set,train_val_set   "
   ]
  },
  {
   "cell_type": "code",
   "execution_count": 6,
   "id": "904dd44f-cae8-4e03-a8f7-a76fbffae7ed",
   "metadata": {},
   "outputs": [
    {
     "name": "stdout",
     "output_type": "stream",
     "text": [
      "229520 6040 6040 6040\n"
     ]
    }
   ],
   "source": [
    "train_set,test_set,val_set,train_val_set=non_zero_sample(user_dict,maxlen,len_seq)\n",
    "print(len(train_set),len(test_set),len(val_set),len(train_val_set))\n",
    "users_num=len(test_set)"
   ]
  },
  {
   "cell_type": "code",
   "execution_count": 7,
   "id": "881ce4c1-a8b0-4c59-98db-5c6df6ae46a1",
   "metadata": {},
   "outputs": [],
   "source": [
    "users, click_seqs, pos_items,neg_items = zip(*train_set)\n",
    "train_data = {'click_seq': np.array(click_seqs), 'pos_item': np.array(pos_items),'neg_item':np.array(neg_items)}\n",
    "users, click_seqs, pos_items,neg_items = zip(*test_set)\n",
    "test_data = {'click_seq': np.array(click_seqs), 'pos_item': np.array(pos_items),'neg_item':np.array(neg_items)}"
   ]
  },
  {
   "cell_type": "code",
   "execution_count": 8,
   "id": "32879739-778f-4a8b-aabe-f2b701d2253b",
   "metadata": {},
   "outputs": [
    {
     "name": "stdout",
     "output_type": "stream",
     "text": [
      "(229520, 4)\n"
     ]
    }
   ],
   "source": [
    "print(np.shape(train_data['neg_item']))"
   ]
  },
  {
   "cell_type": "code",
   "execution_count": 9,
   "id": "49fb9d25-6709-4545-9211-898760d749eb",
   "metadata": {},
   "outputs": [],
   "source": [
    "class mlp_rec(tf.keras.models.Model):\n",
    "    def __init__(self):\n",
    "        super(mlp_rec, self).__init__()\n",
    "        self.len_seq=len_seq\n",
    "        self.embedding = tf.keras.layers.Embedding(items_num+1,hidden_size,input_length=len_seq)\n",
    "        self.w = tf.Variable(initial_value= tf.random.normal([len_seq,1]),name='w')\n",
    "        self.b = tf.Variable(initial_value= tf.random.normal([1]),name='b')\n",
    "    \n",
    "    def call(self, inputs):\n",
    "        seq_emb=self.embedding(inputs['click_seq'])\n",
    "        seq_emb=tf.reshape(seq_emb,[tf.shape(seq_emb)[0],hidden_size,len_seq])\n",
    "        seq_emb = tf.reshape(tf.matmul(seq_emb,self.w),[tf.shape(seq_emb)[0],1,hidden_size])+self.b\n",
    "        seq_emb=tf.squeeze(seq_emb,axis=1)\n",
    "        \n",
    "        pos_emb=self.embedding(tf.reshape(inputs['pos_item'], [-1, ]))\n",
    "        neg_emb=self.embedding(inputs['neg_item'])\n",
    "        \n",
    "        pos_score=tf.reshape(tf.reduce_sum(tf.multiply(seq_emb,pos_emb),axis=1),[-1,1])\n",
    "        neg_score=tf.reduce_sum(tf.multiply(tf.expand_dims(seq_emb,1),neg_emb),axis=-1)\n",
    "        pos_scores = tf.tile(pos_score, [1, neg_score.shape[1]])\n",
    "        loss = tf.reduce_mean(- tf.math.log(tf.nn.sigmoid(pos_score)) - tf.math.log(1 - tf.nn.sigmoid(neg_score))) / 2\n",
    "        self.add_loss(loss)\n",
    "        logits = tf.concat([pos_score, neg_score], axis=-1)\n",
    "        return logits\n",
    "    \n",
    "    def summary(self):\n",
    "        inputs = {\n",
    "            'click_seq': tf.keras.layers.Input(shape=(self.len_seq,), dtype=tf.int32),\n",
    "            'pos_item': tf.keras.layers.Input(shape=(), dtype=tf.int32),\n",
    "            'neg_item': tf.keras.layers.Input(shape=(1,), dtype=tf.int32)  # suppose neg_num=1\n",
    "        }\n",
    "        tf.keras.models.Model(inputs=inputs, outputs=self.call(inputs)).summary()"
   ]
  },
  {
   "cell_type": "code",
   "execution_count": 10,
   "id": "ef04f38c-df08-4399-bbd0-f47bc1ee3213",
   "metadata": {},
   "outputs": [
    {
     "name": "stderr",
     "output_type": "stream",
     "text": [
      "2022-10-18 11:53:20.978420: I tensorflow/core/platform/cpu_feature_guard.cc:142] This TensorFlow binary is optimized with oneAPI Deep Neural Network Library (oneDNN) to use the following CPU instructions in performance-critical operations:  AVX2 FMA\n",
      "To enable them in other operations, rebuild TensorFlow with the appropriate compiler flags.\n",
      "2022-10-18 11:53:21.526841: I tensorflow/core/common_runtime/gpu/gpu_device.cc:1510] Created device /job:localhost/replica:0/task:0/device:GPU:0 with 10801 MB memory:  -> device: 0, name: Tesla K80, pci bus id: 0000:0a:00.0, compute capability: 3.7\n"
     ]
    }
   ],
   "source": [
    "tf.keras.backend.clear_session()\n",
    "\n",
    "model = mlp_rec()\n",
    "#model.summary()\n",
    "optimizer=tf.keras.optimizers.Nadam(learning_rate=0.001, beta_1=0.9, beta_2=0.999, epsilon=None, schedule_decay=0.004)\n",
    "model.compile(optimizer=optimizer)"
   ]
  },
  {
   "cell_type": "code",
   "execution_count": 11,
   "id": "ab39a04b-df32-46da-93f0-7f2749da22d5",
   "metadata": {},
   "outputs": [],
   "source": [
    "def hr(rank, k):\n",
    "    \"\"\"Hit Rate.\n",
    "    Args:\n",
    "        :param rank: A list.\n",
    "        :param k: A scalar(int).\n",
    "    :return: hit rate.\n",
    "    \"\"\"\n",
    "    res = 0.0\n",
    "    for r in rank:\n",
    "        if r < k:\n",
    "            res += 1\n",
    "    return res / len(rank)\n",
    "\n",
    "\n",
    "def mrr(rank, k):\n",
    "    \"\"\"Mean Reciprocal Rank.\n",
    "    Args:\n",
    "        :param rank: A list.\n",
    "        :param k: A scalar(int).\n",
    "    :return: mrr.\n",
    "    \"\"\"\n",
    "    mrr = 0.0\n",
    "    for r in rank:\n",
    "        if r < k:\n",
    "            mrr += 1 / (r + 1)\n",
    "    return mrr / len(rank)\n",
    "\n",
    "\n",
    "def ndcg(rank, k):\n",
    "    \"\"\"Normalized Discounted Cumulative Gain.\n",
    "    Args:\n",
    "        :param rank: A list.\n",
    "        :param k: A scalar(int).\n",
    "    :return: ndcg.\n",
    "    \"\"\"\n",
    "    res = 0.0\n",
    "    for r in rank:\n",
    "        if r < k:\n",
    "            res += 1 / np.log2(r + 2)\n",
    "    return res / len(rank)\n",
    "\n",
    "\n",
    "def eval_rank(pred_y, metric_names, k=10):\n",
    "    \"\"\"Evaluate\n",
    "        Args:\n",
    "            :param pred_y: A ndarray.\n",
    "            :param metric_names: A list like ['hr'].\n",
    "            :param k: A scalar(int).\n",
    "        :return: A result dict such as {'hr':, 'ndcg':, ...}\n",
    "    \"\"\"\n",
    "    rank = pred_y.argsort().argsort()[:, 0]\n",
    "    res_dict = {}\n",
    "    for name in metric_names:\n",
    "        if name == 'hr':\n",
    "            res = hr(rank, k)\n",
    "        elif name == 'ndcg':\n",
    "            res = ndcg(rank, k)\n",
    "        elif name == 'mrr':\n",
    "            res = mrr(rank, k)\n",
    "        else:\n",
    "            break\n",
    "        res_dict[name] = res\n",
    "    return res_dict\n",
    "\n",
    "def eval_pos_neg(model, test_data, metric_names, k=10, batch_size=None):\n",
    "    \"\"\"Evaluate the performance of Top-k recommendation algorithm.\n",
    "    Note: Test data must contain some negative samples(>= k) and one positive samples.\n",
    "    Args:\n",
    "        :param model: A model built-by tensorflow.\n",
    "        :param test_data: A dict.\n",
    "        :param metric_names: A list like ['hr'].\n",
    "        :param k: A scalar(int).\n",
    "        :param batch_size: A scalar(int).\n",
    "    :return: A result dict such as {'hr':, 'ndcg':, ...}\n",
    "    \"\"\"\n",
    "    pred_y = - model.predict(test_data, batch_size)\n",
    "    return eval_rank(pred_y, metric_names, k)"
   ]
  },
  {
   "cell_type": "code",
   "execution_count": 12,
   "id": "3d0933a7-b926-4371-a008-0e992c04d096",
   "metadata": {},
   "outputs": [
    {
     "name": "stderr",
     "output_type": "stream",
     "text": [
      "2022-10-18 11:53:21.803361: I tensorflow/compiler/mlir/mlir_graph_optimization_pass.cc:185] None of the MLIR Optimization Passes are enabled (registered 2)\n"
     ]
    },
    {
     "name": "stdout",
     "output_type": "stream",
     "text": [
      "449/449 [==============================] - 4s 5ms/step - loss: 0.5769\n",
      "Iteration 1 Fit [3.6 s], Evaluate [1.0 s]: HR = 0.0106, MRR = 0.0028, NDCG = 0.0046\n",
      "449/449 [==============================] - 2s 5ms/step - loss: 0.5441\n",
      "Iteration 2 Fit [2.5 s], Evaluate [0.9 s]: HR = 0.0129, MRR = 0.0040, NDCG = 0.0060\n",
      "449/449 [==============================] - 3s 6ms/step - loss: 0.4320\n",
      "Iteration 3 Fit [5.2 s], Evaluate [1.0 s]: HR = 0.0189, MRR = 0.0058, NDCG = 0.0088\n",
      "449/449 [==============================] - 2s 5ms/step - loss: 0.2920\n",
      "Iteration 4 Fit [2.6 s], Evaluate [0.9 s]: HR = 0.0154, MRR = 0.0054, NDCG = 0.0077\n",
      "449/449 [==============================] - 2s 5ms/step - loss: 0.2222\n",
      "Iteration 5 Fit [2.6 s], Evaluate [0.9 s]: HR = 0.0149, MRR = 0.0046, NDCG = 0.0069\n",
      "449/449 [==============================] - 2s 5ms/step - loss: 0.1863\n",
      "Iteration 6 Fit [2.6 s], Evaluate [0.9 s]: HR = 0.0174, MRR = 0.0050, NDCG = 0.0078\n",
      "449/449 [==============================] - 2s 5ms/step - loss: 0.1623\n",
      "Iteration 7 Fit [2.4 s], Evaluate [0.9 s]: HR = 0.0200, MRR = 0.0062, NDCG = 0.0093\n",
      "449/449 [==============================] - 2s 5ms/step - loss: 0.1441\n",
      "Iteration 8 Fit [2.4 s], Evaluate [0.9 s]: HR = 0.0222, MRR = 0.0069, NDCG = 0.0103\n",
      "449/449 [==============================] - 2s 5ms/step - loss: 0.1295\n",
      "Iteration 9 Fit [2.6 s], Evaluate [0.9 s]: HR = 0.0250, MRR = 0.0086, NDCG = 0.0124\n",
      "449/449 [==============================] - 2s 5ms/step - loss: 0.1177\n",
      "Iteration 10 Fit [2.6 s], Evaluate [0.9 s]: HR = 0.0258, MRR = 0.0081, NDCG = 0.0121\n",
      "449/449 [==============================] - 2s 5ms/step - loss: 0.1075\n",
      "Iteration 11 Fit [2.6 s], Evaluate [0.9 s]: HR = 0.0272, MRR = 0.0091, NDCG = 0.0132\n",
      "449/449 [==============================] - 2s 5ms/step - loss: 0.0989\n",
      "Iteration 12 Fit [2.6 s], Evaluate [0.9 s]: HR = 0.0268, MRR = 0.0097, NDCG = 0.0136\n",
      "449/449 [==============================] - 2s 5ms/step - loss: 0.0913\n",
      "Iteration 13 Fit [2.6 s], Evaluate [0.9 s]: HR = 0.0281, MRR = 0.0104, NDCG = 0.0145\n",
      "449/449 [==============================] - 2s 5ms/step - loss: 0.0846\n",
      "Iteration 14 Fit [2.6 s], Evaluate [0.9 s]: HR = 0.0268, MRR = 0.0110, NDCG = 0.0147\n",
      "449/449 [==============================] - 2s 5ms/step - loss: 0.0788\n",
      "Iteration 15 Fit [2.6 s], Evaluate [0.9 s]: HR = 0.0280, MRR = 0.0105, NDCG = 0.0145\n",
      "449/449 [==============================] - 2s 5ms/step - loss: 0.0735\n",
      "Iteration 16 Fit [2.5 s], Evaluate [0.9 s]: HR = 0.0270, MRR = 0.0109, NDCG = 0.0146\n",
      "449/449 [==============================] - 2s 5ms/step - loss: 0.0688\n",
      "Iteration 17 Fit [2.6 s], Evaluate [0.9 s]: HR = 0.0268, MRR = 0.0107, NDCG = 0.0144\n",
      "449/449 [==============================] - 2s 5ms/step - loss: 0.0643\n",
      "Iteration 18 Fit [2.6 s], Evaluate [0.9 s]: HR = 0.0262, MRR = 0.0105, NDCG = 0.0141\n",
      "449/449 [==============================] - 2s 5ms/step - loss: 0.0604\n",
      "Iteration 19 Fit [2.6 s], Evaluate [0.9 s]: HR = 0.0275, MRR = 0.0108, NDCG = 0.0146\n",
      "449/449 [==============================] - 2s 5ms/step - loss: 0.0567\n",
      "Iteration 20 Fit [2.6 s], Evaluate [0.9 s]: HR = 0.0262, MRR = 0.0106, NDCG = 0.0142\n"
     ]
    }
   ],
   "source": [
    "from time import time\n",
    "for epoch in range(1, epoch_num + 1):\n",
    "    t1 = time()\n",
    "    model.fit(\n",
    "            x=train_data,\n",
    "            epochs=1,\n",
    "            batch_size=batch_size)\n",
    "    t2 = time()\n",
    "    eval_dict = eval_pos_neg(model, test_data, ['hr', 'mrr', 'ndcg'], 10, batch_size)\n",
    "    print('Iteration %d Fit [%.1f s], Evaluate [%.1f s]: HR = %.4f, MRR = %.4f, NDCG = %.4f'\n",
    "              % (epoch, t2 - t1, time() - t2, eval_dict['hr'], eval_dict['mrr'], eval_dict['ndcg']))"
   ]
  },
  {
   "cell_type": "code",
   "execution_count": 13,
   "id": "1a9725cf-0012-418f-bd02-be06cc7ab1ad",
   "metadata": {},
   "outputs": [
    {
     "ename": "TypeError",
     "evalue": "Only integers, slices (`:`), ellipsis (`...`), tf.newaxis (`None`) and scalar tf.int32/tf.int64 tensors are valid indices, got 'click_seq'",
     "output_type": "error",
     "traceback": [
      "\u001b[0;31m---------------------------------------------------------------------------\u001b[0m",
      "\u001b[0;31mTypeError\u001b[0m                                 Traceback (most recent call last)",
      "\u001b[0;32m/tmp/ipykernel_619/2930606690.py\u001b[0m in \u001b[0;36m<module>\u001b[0;34m\u001b[0m\n\u001b[1;32m      1\u001b[0m \u001b[0ma\u001b[0m\u001b[0;34m=\u001b[0m\u001b[0mtf\u001b[0m\u001b[0;34m.\u001b[0m\u001b[0mconstant\u001b[0m\u001b[0;34m(\u001b[0m\u001b[0;34m[\u001b[0m\u001b[0;34m[\u001b[0m\u001b[0;36m2558\u001b[0m\u001b[0;34m,\u001b[0m \u001b[0;36m2559\u001b[0m\u001b[0;34m,\u001b[0m \u001b[0;36m2582\u001b[0m\u001b[0;34m,\u001b[0m \u001b[0;36m2605\u001b[0m\u001b[0;34m,\u001b[0m \u001b[0;36m2608\u001b[0m\u001b[0;34m,\u001b[0m \u001b[0;36m2669\u001b[0m\u001b[0;34m,\u001b[0m \u001b[0;36m2801\u001b[0m\u001b[0;34m,\u001b[0m \u001b[0;36m2835\u001b[0m\u001b[0;34m,\u001b[0m \u001b[0;36m2913\u001b[0m\u001b[0;34m,\u001b[0m \u001b[0;36m3052\u001b[0m\u001b[0;34m]\u001b[0m\u001b[0;34m]\u001b[0m\u001b[0;34m)\u001b[0m\u001b[0;34m\u001b[0m\u001b[0;34m\u001b[0m\u001b[0m\n\u001b[0;32m----> 2\u001b[0;31m \u001b[0mtf\u001b[0m\u001b[0;34m.\u001b[0m\u001b[0mprint\u001b[0m\u001b[0;34m(\u001b[0m\u001b[0mtf\u001b[0m\u001b[0;34m.\u001b[0m\u001b[0margmax\u001b[0m\u001b[0;34m(\u001b[0m\u001b[0mmodel\u001b[0m\u001b[0;34m(\u001b[0m\u001b[0ma\u001b[0m\u001b[0;34m)\u001b[0m\u001b[0;34m[\u001b[0m\u001b[0;36m0\u001b[0m\u001b[0;34m]\u001b[0m\u001b[0;34m)\u001b[0m\u001b[0;34m)\u001b[0m\u001b[0;34m\u001b[0m\u001b[0;34m\u001b[0m\u001b[0m\n\u001b[0m",
      "\u001b[0;32m~/miniconda3/envs/myconda/lib/python3.8/site-packages/keras/engine/base_layer.py\u001b[0m in \u001b[0;36m__call__\u001b[0;34m(self, *args, **kwargs)\u001b[0m\n\u001b[1;32m   1035\u001b[0m         with autocast_variable.enable_auto_cast_variables(\n\u001b[1;32m   1036\u001b[0m             self._compute_dtype_object):\n\u001b[0;32m-> 1037\u001b[0;31m           \u001b[0moutputs\u001b[0m \u001b[0;34m=\u001b[0m \u001b[0mcall_fn\u001b[0m\u001b[0;34m(\u001b[0m\u001b[0minputs\u001b[0m\u001b[0;34m,\u001b[0m \u001b[0;34m*\u001b[0m\u001b[0margs\u001b[0m\u001b[0;34m,\u001b[0m \u001b[0;34m**\u001b[0m\u001b[0mkwargs\u001b[0m\u001b[0;34m)\u001b[0m\u001b[0;34m\u001b[0m\u001b[0;34m\u001b[0m\u001b[0m\n\u001b[0m\u001b[1;32m   1038\u001b[0m \u001b[0;34m\u001b[0m\u001b[0m\n\u001b[1;32m   1039\u001b[0m         \u001b[0;32mif\u001b[0m \u001b[0mself\u001b[0m\u001b[0;34m.\u001b[0m\u001b[0m_activity_regularizer\u001b[0m\u001b[0;34m:\u001b[0m\u001b[0;34m\u001b[0m\u001b[0;34m\u001b[0m\u001b[0m\n",
      "\u001b[0;32m/tmp/ipykernel_619/787925347.py\u001b[0m in \u001b[0;36mcall\u001b[0;34m(self, inputs)\u001b[0m\n\u001b[1;32m      8\u001b[0m \u001b[0;34m\u001b[0m\u001b[0m\n\u001b[1;32m      9\u001b[0m     \u001b[0;32mdef\u001b[0m \u001b[0mcall\u001b[0m\u001b[0;34m(\u001b[0m\u001b[0mself\u001b[0m\u001b[0;34m,\u001b[0m \u001b[0minputs\u001b[0m\u001b[0;34m)\u001b[0m\u001b[0;34m:\u001b[0m\u001b[0;34m\u001b[0m\u001b[0;34m\u001b[0m\u001b[0m\n\u001b[0;32m---> 10\u001b[0;31m         \u001b[0mseq_emb\u001b[0m\u001b[0;34m=\u001b[0m\u001b[0mself\u001b[0m\u001b[0;34m.\u001b[0m\u001b[0membedding\u001b[0m\u001b[0;34m(\u001b[0m\u001b[0minputs\u001b[0m\u001b[0;34m[\u001b[0m\u001b[0;34m'click_seq'\u001b[0m\u001b[0;34m]\u001b[0m\u001b[0;34m)\u001b[0m\u001b[0;34m\u001b[0m\u001b[0;34m\u001b[0m\u001b[0m\n\u001b[0m\u001b[1;32m     11\u001b[0m         \u001b[0mseq_emb\u001b[0m\u001b[0;34m=\u001b[0m\u001b[0mtf\u001b[0m\u001b[0;34m.\u001b[0m\u001b[0mreshape\u001b[0m\u001b[0;34m(\u001b[0m\u001b[0mseq_emb\u001b[0m\u001b[0;34m,\u001b[0m\u001b[0;34m[\u001b[0m\u001b[0mtf\u001b[0m\u001b[0;34m.\u001b[0m\u001b[0mshape\u001b[0m\u001b[0;34m(\u001b[0m\u001b[0mseq_emb\u001b[0m\u001b[0;34m)\u001b[0m\u001b[0;34m[\u001b[0m\u001b[0;36m0\u001b[0m\u001b[0;34m]\u001b[0m\u001b[0;34m,\u001b[0m\u001b[0mhidden_size\u001b[0m\u001b[0;34m,\u001b[0m\u001b[0mlen_seq\u001b[0m\u001b[0;34m]\u001b[0m\u001b[0;34m)\u001b[0m\u001b[0;34m\u001b[0m\u001b[0;34m\u001b[0m\u001b[0m\n\u001b[1;32m     12\u001b[0m         \u001b[0mseq_emb\u001b[0m \u001b[0;34m=\u001b[0m \u001b[0mtf\u001b[0m\u001b[0;34m.\u001b[0m\u001b[0mreshape\u001b[0m\u001b[0;34m(\u001b[0m\u001b[0mtf\u001b[0m\u001b[0;34m.\u001b[0m\u001b[0mmatmul\u001b[0m\u001b[0;34m(\u001b[0m\u001b[0mseq_emb\u001b[0m\u001b[0;34m,\u001b[0m\u001b[0mself\u001b[0m\u001b[0;34m.\u001b[0m\u001b[0mw\u001b[0m\u001b[0;34m)\u001b[0m\u001b[0;34m,\u001b[0m\u001b[0;34m[\u001b[0m\u001b[0mtf\u001b[0m\u001b[0;34m.\u001b[0m\u001b[0mshape\u001b[0m\u001b[0;34m(\u001b[0m\u001b[0mseq_emb\u001b[0m\u001b[0;34m)\u001b[0m\u001b[0;34m[\u001b[0m\u001b[0;36m0\u001b[0m\u001b[0;34m]\u001b[0m\u001b[0;34m,\u001b[0m\u001b[0;36m1\u001b[0m\u001b[0;34m,\u001b[0m\u001b[0mhidden_size\u001b[0m\u001b[0;34m]\u001b[0m\u001b[0;34m)\u001b[0m\u001b[0;34m+\u001b[0m\u001b[0mself\u001b[0m\u001b[0;34m.\u001b[0m\u001b[0mb\u001b[0m\u001b[0;34m\u001b[0m\u001b[0;34m\u001b[0m\u001b[0m\n",
      "\u001b[0;32m~/miniconda3/envs/myconda/lib/python3.8/site-packages/tensorflow/python/util/dispatch.py\u001b[0m in \u001b[0;36mwrapper\u001b[0;34m(*args, **kwargs)\u001b[0m\n\u001b[1;32m    204\u001b[0m     \u001b[0;34m\"\"\"Call target, and fall back on dispatchers if there is a TypeError.\"\"\"\u001b[0m\u001b[0;34m\u001b[0m\u001b[0;34m\u001b[0m\u001b[0m\n\u001b[1;32m    205\u001b[0m     \u001b[0;32mtry\u001b[0m\u001b[0;34m:\u001b[0m\u001b[0;34m\u001b[0m\u001b[0;34m\u001b[0m\u001b[0m\n\u001b[0;32m--> 206\u001b[0;31m       \u001b[0;32mreturn\u001b[0m \u001b[0mtarget\u001b[0m\u001b[0;34m(\u001b[0m\u001b[0;34m*\u001b[0m\u001b[0margs\u001b[0m\u001b[0;34m,\u001b[0m \u001b[0;34m**\u001b[0m\u001b[0mkwargs\u001b[0m\u001b[0;34m)\u001b[0m\u001b[0;34m\u001b[0m\u001b[0;34m\u001b[0m\u001b[0m\n\u001b[0m\u001b[1;32m    207\u001b[0m     \u001b[0;32mexcept\u001b[0m \u001b[0;34m(\u001b[0m\u001b[0mTypeError\u001b[0m\u001b[0;34m,\u001b[0m \u001b[0mValueError\u001b[0m\u001b[0;34m)\u001b[0m\u001b[0;34m:\u001b[0m\u001b[0;34m\u001b[0m\u001b[0;34m\u001b[0m\u001b[0m\n\u001b[1;32m    208\u001b[0m       \u001b[0;31m# Note: convert_to_eager_tensor currently raises a ValueError, not a\u001b[0m\u001b[0;34m\u001b[0m\u001b[0;34m\u001b[0m\u001b[0;34m\u001b[0m\u001b[0m\n",
      "\u001b[0;32m~/miniconda3/envs/myconda/lib/python3.8/site-packages/tensorflow/python/ops/array_ops.py\u001b[0m in \u001b[0;36m_slice_helper\u001b[0;34m(tensor, slice_spec, var)\u001b[0m\n\u001b[1;32m   1012\u001b[0m       \u001b[0mnew_axis_mask\u001b[0m \u001b[0;34m|=\u001b[0m \u001b[0;34m(\u001b[0m\u001b[0;36m1\u001b[0m \u001b[0;34m<<\u001b[0m \u001b[0mindex\u001b[0m\u001b[0;34m)\u001b[0m\u001b[0;34m\u001b[0m\u001b[0;34m\u001b[0m\u001b[0m\n\u001b[1;32m   1013\u001b[0m     \u001b[0;32melse\u001b[0m\u001b[0;34m:\u001b[0m\u001b[0;34m\u001b[0m\u001b[0;34m\u001b[0m\u001b[0m\n\u001b[0;32m-> 1014\u001b[0;31m       \u001b[0m_check_index\u001b[0m\u001b[0;34m(\u001b[0m\u001b[0ms\u001b[0m\u001b[0;34m)\u001b[0m\u001b[0;34m\u001b[0m\u001b[0;34m\u001b[0m\u001b[0m\n\u001b[0m\u001b[1;32m   1015\u001b[0m       \u001b[0mbegin\u001b[0m\u001b[0;34m.\u001b[0m\u001b[0mappend\u001b[0m\u001b[0;34m(\u001b[0m\u001b[0ms\u001b[0m\u001b[0;34m)\u001b[0m\u001b[0;34m\u001b[0m\u001b[0;34m\u001b[0m\u001b[0m\n\u001b[1;32m   1016\u001b[0m       \u001b[0mend\u001b[0m\u001b[0;34m.\u001b[0m\u001b[0mappend\u001b[0m\u001b[0;34m(\u001b[0m\u001b[0ms\u001b[0m \u001b[0;34m+\u001b[0m \u001b[0;36m1\u001b[0m\u001b[0;34m)\u001b[0m\u001b[0;34m\u001b[0m\u001b[0;34m\u001b[0m\u001b[0m\n",
      "\u001b[0;32m~/miniconda3/envs/myconda/lib/python3.8/site-packages/tensorflow/python/ops/array_ops.py\u001b[0m in \u001b[0;36m_check_index\u001b[0;34m(idx)\u001b[0m\n\u001b[1;32m    886\u001b[0m     \u001b[0;31m# TODO(slebedev): IndexError seems more appropriate here, but it\u001b[0m\u001b[0;34m\u001b[0m\u001b[0;34m\u001b[0m\u001b[0;34m\u001b[0m\u001b[0m\n\u001b[1;32m    887\u001b[0m     \u001b[0;31m# will break `_slice_helper` contract.\u001b[0m\u001b[0;34m\u001b[0m\u001b[0;34m\u001b[0m\u001b[0;34m\u001b[0m\u001b[0m\n\u001b[0;32m--> 888\u001b[0;31m     \u001b[0;32mraise\u001b[0m \u001b[0mTypeError\u001b[0m\u001b[0;34m(\u001b[0m\u001b[0m_SLICE_TYPE_ERROR\u001b[0m \u001b[0;34m+\u001b[0m \u001b[0;34m\", got {!r}\"\u001b[0m\u001b[0;34m.\u001b[0m\u001b[0mformat\u001b[0m\u001b[0;34m(\u001b[0m\u001b[0midx\u001b[0m\u001b[0;34m)\u001b[0m\u001b[0;34m)\u001b[0m\u001b[0;34m\u001b[0m\u001b[0;34m\u001b[0m\u001b[0m\n\u001b[0m\u001b[1;32m    889\u001b[0m \u001b[0;34m\u001b[0m\u001b[0m\n\u001b[1;32m    890\u001b[0m \u001b[0;34m\u001b[0m\u001b[0m\n",
      "\u001b[0;31mTypeError\u001b[0m: Only integers, slices (`:`), ellipsis (`...`), tf.newaxis (`None`) and scalar tf.int32/tf.int64 tensors are valid indices, got 'click_seq'"
     ]
    }
   ],
   "source": [
    "a=tf.constant([[2558, 2559, 2582, 2605, 2608, 2669, 2801, 2835, 2913, 3052]])\n",
    "tf.print(tf.argmax(model(a)[0]))"
   ]
  },
  {
   "cell_type": "code",
   "execution_count": null,
   "id": "79481e70-93d3-41d1-8e5b-558125f5da11",
   "metadata": {},
   "outputs": [],
   "source": [
    "'''def train_model(model,ds_train,ds_valid,epoches):\n",
    "\n",
    "    for epoch in tf.range(1,epoches+1):\n",
    "        model.reset_metrics()\n",
    "        \n",
    "        # 在后期降低学习率\n",
    "        if epoch == 5000:\n",
    "            model.optimizer.lr.assign(model.optimizer.lr/2.0)\n",
    "            tf.print(\"Lowering optimizer Learning Rate...\\n\\n\")\n",
    "        \n",
    "        for x, y in ds_train:\n",
    "            train_result = model.train_on_batch(x, y)\n",
    "\n",
    "        for x, y in ds_valid:\n",
    "            valid_result = model.test_on_batch(x, y,reset_metrics=False)\n",
    "            \n",
    "        if epoch%100 ==0:\n",
    "            tf.print(\"epoch = \",epoch)\n",
    "            print(\"train:\",dict(zip(model.metrics_names,train_result)))\n",
    "            print(\"valid:\",dict(zip(model.metrics_names,valid_result)))\n",
    "            print(\"\")'''"
   ]
  },
  {
   "cell_type": "code",
   "execution_count": null,
   "id": "6a286ada-d7d0-4faf-a82c-43c935a51ff9",
   "metadata": {},
   "outputs": [],
   "source": [
    "'''train_model(model,ds_train,ds_test,800)'''"
   ]
  },
  {
   "cell_type": "code",
   "execution_count": null,
   "id": "f8e66217-f349-4dc4-85fe-a8d250b20e79",
   "metadata": {},
   "outputs": [],
   "source": []
  }
 ],
 "metadata": {
  "kernelspec": {
   "display_name": "myconda",
   "language": "python",
   "name": "myconda"
  },
  "language_info": {
   "codemirror_mode": {
    "name": "ipython",
    "version": 3
   },
   "file_extension": ".py",
   "mimetype": "text/x-python",
   "name": "python",
   "nbconvert_exporter": "python",
   "pygments_lexer": "ipython3",
   "version": "3.8.12"
  }
 },
 "nbformat": 4,
 "nbformat_minor": 5
}
