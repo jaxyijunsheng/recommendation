{
 "cells": [
  {
   "cell_type": "code",
   "execution_count": 1,
   "id": "f234bd2c-72c1-4747-8d78-5816bcf5f9f4",
   "metadata": {},
   "outputs": [],
   "source": [
    "import pickle\n",
    "len_seq=10\n",
    "with open('/root/autodl-nas/workspace/datasets/ml/ml-1m/all_ratings.pkl', 'rb') as f:    \n",
    "    user_dict = pickle.load(f)\n",
    "pop_user=[]\n",
    "for u in user_dict.keys():\n",
    "    if len(user_dict[u])<len_seq+3:\n",
    "        pop_user.append(u)\n",
    "for i in pop_user:\n",
    "    user_dict.pop(i)"
   ]
  },
  {
   "cell_type": "code",
   "execution_count": 2,
   "id": "94decf90-bdef-4013-8f8b-f41149d1df3a",
   "metadata": {},
   "outputs": [
    {
     "name": "stdout",
     "output_type": "stream",
     "text": [
      "165.49850993377484\n",
      "[ 44.   96.  207.5]\n"
     ]
    }
   ],
   "source": [
    "inte_lenth=[]\n",
    "for i in user_dict.keys():\n",
    "    inte_lenth.append(len(user_dict[i]))\n",
    "import numpy as np\n",
    "print(np.mean(inte_lenth))\n",
    "\n",
    "print(np.percentile(inte_lenth, (25, 50, 75), interpolation='midpoint'))"
   ]
  },
  {
   "cell_type": "code",
   "execution_count": 3,
   "id": "7f637db9-ca58-47a6-aee7-45e77b74d669",
   "metadata": {},
   "outputs": [],
   "source": [
    "items_num=[]\n",
    "for i in user_dict.values():\n",
    "    items_num.append(max(i))\n",
    "items_num=max(items_num)\n",
    "maxlen=165\n",
    "\n",
    "batch_size=512\n",
    "epoch_num=100\n",
    "hidden_size=64\n",
    "keep_rate=0.9\n",
    "layers_num=3\n",
    "num_heads=1\n",
    "interest_num=2\n",
    "kernel_size=4\n",
    "transformerencoder=0\n",
    "multi_dense=0\n",
    "neg_num=5\n",
    "test_neg_num=1000"
   ]
  },
  {
   "cell_type": "code",
   "execution_count": 4,
   "id": "d5cef2ac-7b80-4e63-bae5-ca7fed45cf9c",
   "metadata": {},
   "outputs": [
    {
     "name": "stdout",
     "output_type": "stream",
     "text": [
      "6040 3416\n"
     ]
    }
   ],
   "source": [
    "print(len(user_dict),items_num)"
   ]
  },
  {
   "cell_type": "code",
   "execution_count": 5,
   "id": "31541dcc-b06f-4707-8c20-869ab8a13725",
   "metadata": {},
   "outputs": [],
   "source": [
    "import random\n",
    "import numpy as np\n",
    "def sample(user_dict,maxlen,len_seq):\n",
    "    train_set=[]\n",
    "    train_val_set=[]\n",
    "    val_set=[]\n",
    "    test_set=[]\n",
    "    for u in user_dict.keys():\n",
    "        idx=0\n",
    "        hist=user_dict[u]        \n",
    "        hist=hist[-maxlen:-2]\n",
    "        #print(hist)\n",
    "        for i in range(1,len(hist)):\n",
    "            seq = np.zeros([len_seq], dtype=np.int32)\n",
    "            #print(hist[0:i])\n",
    "            seq[max(0,len_seq+idx-1):]=hist[max(0,i-len_seq):i]\n",
    "            idx+=-1\n",
    "            nxt = hist[i]\n",
    "            #print((u,seq,nxt))\n",
    "            train_set.append((u,list(seq),nxt))\n",
    "            #print(seq)\n",
    "        train_val_set.append((u,list(seq),nxt))\n",
    "        seq = np.zeros([len_seq], dtype=np.int32)\n",
    "        seq=hist[-len_seq-2:-2]\n",
    "        nxt = user_dict[u][-2]\n",
    "        val_set.append((u,list(seq),nxt))\n",
    "        seq = np.zeros([len_seq], dtype=np.int32)\n",
    "        seq=hist[-len_seq-1:-1]\n",
    "        nxt = user_dict[u][-1]\n",
    "        test_set.append((u,list(seq),nxt))\n",
    "    random.shuffle(train_set)\n",
    "    random.shuffle(test_set)\n",
    "    return train_set,test_set,val_set,train_val_set\n",
    "            \n",
    "def non_zero_sample(user_dict,maxlen,len_seq):\n",
    "    train_set=[]\n",
    "    test_set=[]\n",
    "    val_set=[]\n",
    "    train_val_set=[]\n",
    "    for u in user_dict.keys():\n",
    "        idx=0\n",
    "        original_hist=user_dict[u]        \n",
    "        seq = np.zeros([len_seq], dtype=np.int32)\n",
    "        #print(np.shape(seq[-maxlen:]))\n",
    "        while(len(original_hist)<len_seq+3):\n",
    "            original_hist.insert(0,0)\n",
    "        #print(len(hist),hist)\n",
    "        hist=original_hist[-maxlen:-2]\n",
    "        for i in range(len_seq,len(hist)):\n",
    "            seq = np.zeros([len_seq], dtype=np.int32)\n",
    "            #rint(hist[max(0,i-len_seq):i])\n",
    "            seq=hist[max(0,i-len_seq):i]\n",
    "            idx+=-1\n",
    "            nxt = hist[i]\n",
    "            #print((u,seq,nxt))\n",
    "            neg_item = [random.randint(1, items_num) for _ in range(neg_num)]\n",
    "            train_set.append((u,list(seq),nxt,neg_item))\n",
    "            #print(seq)\n",
    "        #print(np.shape(hist[0:len(hist)-1]))\n",
    "        train_val_set.append((u,list(seq),nxt))\n",
    "        \n",
    "        seq = np.zeros([len_seq], dtype=np.int32)\n",
    "        seq=original_hist[-len_seq-2:-2]\n",
    "        nxt = original_hist[-2]\n",
    "        neg_item = [random.randint(1, items_num) for _ in range(neg_num)]\n",
    "        val_set.append((u,list(seq),nxt,neg_item))\n",
    "        \n",
    "        seq = np.zeros([len_seq], dtype=np.int32)\n",
    "        seq=original_hist[-len_seq-1:-1]\n",
    "        nxt = original_hist[-1]\n",
    "        neg_item = [random.randint(1, items_num) for _ in range(test_neg_num)]\n",
    "        test_set.append((u,list(seq),nxt,neg_item))\n",
    "    random.shuffle(train_set)\n",
    "    random.shuffle(test_set)\n",
    "    return train_set,test_set ,val_set,train_val_set   "
   ]
  },
  {
   "cell_type": "code",
   "execution_count": 6,
   "id": "74d0ca26-d9c4-4aad-9383-9ab1133a7b07",
   "metadata": {},
   "outputs": [
    {
     "name": "stdout",
     "output_type": "stream",
     "text": [
      "52139 931 931 931\n"
     ]
    }
   ],
   "source": [
    "train_set,test_set,val_set,train_val_set=non_zero_sample(user_dict,maxlen,len_seq)\n",
    "print(len(train_set),len(test_set),len(val_set),len(train_val_set))\n",
    "users_num=len(test_set)"
   ]
  },
  {
   "cell_type": "code",
   "execution_count": 7,
   "id": "60cab0a0-71a3-4a73-bf5c-b04d17657658",
   "metadata": {},
   "outputs": [],
   "source": [
    "users, click_seqs, pos_items,neg_items = zip(*train_set)\n",
    "train_data = {'users':np.array(users),'click_seq': np.array(click_seqs), 'pos_item': np.array(pos_items),'neg_item':np.array(neg_items)}\n",
    "\n",
    "users, click_seqs, pos_items,neg_items = zip(*test_set)\n",
    "test_data = {'users':np.array(users),'click_seq': np.array(click_seqs), 'pos_item': np.array(pos_items),'neg_item':np.array(neg_items)}\n",
    "\n",
    "users, click_seqs, pos_items,neg_items = zip(*val_set)\n",
    "val_data = {'users':np.array(users),'click_seq': np.array(click_seqs), 'pos_item': np.array(pos_items),'neg_item':np.array(neg_items)}"
   ]
  },
  {
   "cell_type": "code",
   "execution_count": 8,
   "id": "78281f0f-962b-404d-bac4-064ef732e186",
   "metadata": {},
   "outputs": [],
   "source": [
    "dataset_name='ml-1m'\n",
    "with open('/root/autodl-nas/workspace/datasets/ml/ml-1m/'+dataset_name+'_train_data.pkl', 'wb') as f:\n",
    "    pickle.dump(train_data, f, -1)\n",
    "with open('/root/autodl-nas/workspace/datasets/ml/ml-1m/'+dataset_name+'_test_data.pkl', 'wb') as f:\n",
    "    pickle.dump(test_data, f, -1)\n",
    "with open('/root/autodl-nas/workspace/datasets/ml/ml-1m/'+dataset_name+'_val_data.pkl', 'wb') as f:\n",
    "    pickle.dump(val_data, f, -1)"
   ]
  },
  {
   "cell_type": "code",
   "execution_count": 9,
   "id": "c2d56bc6-f62e-4713-bb2b-c9abef120239",
   "metadata": {},
   "outputs": [],
   "source": [
    "with open('/root/autodl-nas/workspace/datasets/ml/ml-1m/'+dataset_name+'_train_data.pkl', 'rb') as f:\n",
    "    train_data=pickle.load(f)\n",
    "with open('/root/autodl-nas/workspace/datasets/ml/ml-1m/'+dataset_name+'_test_data.pkl', 'rb') as f:\n",
    "    test_data=pickle.load(f)\n",
    "with open('/root/autodl-nas/workspace/datasets/ml/ml-1m/'+dataset_name+'_val_data.pkl', 'rb') as f:\n",
    "    val_data=pickle.load(f)"
   ]
  },
  {
   "cell_type": "code",
   "execution_count": 10,
   "id": "db68c42d-db2c-43b1-a44b-7d56b6b8216c",
   "metadata": {},
   "outputs": [
    {
     "name": "stdout",
     "output_type": "stream",
     "text": [
      "(52139, 10) (931, 1000) (931, 5)\n"
     ]
    }
   ],
   "source": [
    "print(np.shape(train_data['click_seq']),np.shape(test_data['neg_item']),np.shape(val_data['neg_item']))"
   ]
  },
  {
   "cell_type": "code",
   "execution_count": 11,
   "id": "f2e45166-c5bf-4f2b-b67e-1216105ceaeb",
   "metadata": {},
   "outputs": [
    {
     "name": "stdout",
     "output_type": "stream",
     "text": [
      "0\n",
      "0\n",
      "pass\n"
     ]
    }
   ],
   "source": [
    "for i in range(len(train_data['click_seq'])):\n",
    "    if i%500000==0:\n",
    "        print(i)\n",
    "    if list(test_data['click_seq'][0])==list(train_data['click_seq'][i]):\n",
    "        print(test_data['click_seq'][0],test_data['pos_item'][0],train_data['click_seq'][i],train_data['pos_item'][i])\n",
    "for i in range(len(train_data['click_seq'])):\n",
    "    if i%500000==0:\n",
    "        print(i)\n",
    "    if list(val_data['click_seq'][0])==list(train_data['click_seq'][i]):\n",
    "        print(val_data['click_seq'][0],val_data['pos_item'][0],train_data['click_seq'][i],train_data['pos_item'][i])\n",
    "print('pass')"
   ]
  },
  {
   "cell_type": "code",
   "execution_count": null,
   "id": "740407b6-6fd5-40cb-baaf-ac8f02d2755e",
   "metadata": {},
   "outputs": [],
   "source": []
  }
 ],
 "metadata": {
  "kernelspec": {
   "display_name": "Python 3 (ipykernel)",
   "language": "python",
   "name": "python3"
  },
  "language_info": {
   "codemirror_mode": {
    "name": "ipython",
    "version": 3
   },
   "file_extension": ".py",
   "mimetype": "text/x-python",
   "name": "python",
   "nbconvert_exporter": "python",
   "pygments_lexer": "ipython3",
   "version": "3.8.10"
  }
 },
 "nbformat": 4,
 "nbformat_minor": 5
}
