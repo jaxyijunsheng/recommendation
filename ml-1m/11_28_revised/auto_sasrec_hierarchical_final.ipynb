{
 "cells": [
  {
   "cell_type": "code",
   "execution_count": 1,
   "id": "3dd98390-6cf1-4188-8828-d9bbbeea1bd6",
   "metadata": {
    "executionInfo": {
     "elapsed": 485,
     "status": "ok",
     "timestamp": 1666147022217,
     "user": {
      "displayName": "yijun sheng",
      "userId": "07090048668815296857"
     },
     "user_tz": -480
    },
    "id": "3dd98390-6cf1-4188-8828-d9bbbeea1bd6"
   },
   "outputs": [],
   "source": [
    "import os\n",
    "import numpy as np\n",
    "#os.environ['AUTOGRAPH_VERBOSITY'] = '0'\n",
    "os.environ[\"TF_CPP_MIN_LOG_LEVEL\"] = \"2\"\n",
    "import tensorflow as tf"
   ]
  },
  {
   "cell_type": "code",
   "execution_count": 2,
   "id": "4c3b8cca-95eb-4e76-af74-8467884552ef",
   "metadata": {
    "colab": {
     "base_uri": "https://localhost:8080/"
    },
    "executionInfo": {
     "elapsed": 8,
     "status": "ok",
     "timestamp": 1666147022792,
     "user": {
      "displayName": "yijun sheng",
      "userId": "07090048668815296857"
     },
     "user_tz": -480
    },
    "id": "4c3b8cca-95eb-4e76-af74-8467884552ef",
    "outputId": "498f1488-239e-4190-b99c-99e8f8b099a5"
   },
   "outputs": [
    {
     "name": "stdout",
     "output_type": "stream",
     "text": [
      "2.5.0\n"
     ]
    }
   ],
   "source": [
    "print(tf.__version__)"
   ]
  },
  {
   "cell_type": "code",
   "execution_count": 3,
   "id": "b4a9ec17-4926-453d-8ca9-9113908b350d",
   "metadata": {
    "executionInfo": {
     "elapsed": 970,
     "status": "ok",
     "timestamp": 1666147041157,
     "user": {
      "displayName": "yijun sheng",
      "userId": "07090048668815296857"
     },
     "user_tz": -480
    },
    "id": "b4a9ec17-4926-453d-8ca9-9113908b350d"
   },
   "outputs": [],
   "source": [
    "import pickle\n",
    "with open('/root/autodl-nas/workspace/datasets/ml/ml-1m/all_ratings.pkl', 'rb') as f:    \n",
    "    user_dict = pickle.load(f)\n",
    "items_num=max(max(user_dict.values()))\n",
    "maxlen=100\n",
    "len_seq=50\n",
    "batch_size=512\n",
    "epoch_num=100\n",
    "hidden_size=64\n",
    "keep_rate=0.9\n",
    "layers_num=10\n",
    "num_interest=1\n",
    "kernel_size=1 #multiple of 2\n",
    "multi_transformer=0\n",
    "neg_num=4\n",
    "test_neg_num=100"
   ]
  },
  {
   "cell_type": "code",
   "execution_count": 4,
   "id": "91fd2c73-3e4f-449e-aef3-88288de30804",
   "metadata": {
    "executionInfo": {
     "elapsed": 4,
     "status": "ok",
     "timestamp": 1666147041158,
     "user": {
      "displayName": "yijun sheng",
      "userId": "07090048668815296857"
     },
     "user_tz": -480
    },
    "id": "91fd2c73-3e4f-449e-aef3-88288de30804"
   },
   "outputs": [],
   "source": [
    "import random\n",
    "import numpy as np\n",
    "def sample(user_dict,maxlen,len_seq):\n",
    "    train_set=[]\n",
    "    train_val_set=[]\n",
    "    val_set=[]\n",
    "    test_set=[]\n",
    "    for u in user_dict.keys():\n",
    "        idx=0\n",
    "        hist=user_dict[u]        \n",
    "        hist=hist[-maxlen:-2]\n",
    "        #print(hist)\n",
    "        for i in range(1,len(hist)):\n",
    "            seq = np.zeros([len_seq], dtype=np.int32)\n",
    "            #print(hist[0:i])\n",
    "            seq[max(0,len_seq+idx-1):]=hist[max(0,i-len_seq):i]\n",
    "            idx+=-1\n",
    "            nxt = hist[i]\n",
    "            #print((u,seq,nxt))\n",
    "            train_set.append((u,list(seq),nxt))\n",
    "            #print(seq)\n",
    "        train_val_set.append((u,list(seq),nxt))\n",
    "        seq = np.zeros([len_seq], dtype=np.int32)\n",
    "        seq=hist[-len_seq-2:-2]\n",
    "        nxt = user_dict[u][-2]\n",
    "        val_set.append((u,list(seq),nxt))\n",
    "        seq = np.zeros([len_seq], dtype=np.int32)\n",
    "        seq=hist[-len_seq-1:-1]\n",
    "        nxt = user_dict[u][-1]\n",
    "        test_set.append((u,list(seq),nxt))\n",
    "    random.shuffle(train_set)\n",
    "    random.shuffle(test_set)\n",
    "    return train_set,test_set,val_set,train_val_set\n",
    "            \n",
    "def non_zero_sample(user_dict,maxlen,len_seq):\n",
    "    train_set=[]\n",
    "    test_set=[]\n",
    "    val_set=[]\n",
    "    train_val_set=[]\n",
    "    for u in user_dict.keys():\n",
    "        idx=0\n",
    "        hist=user_dict[u]        \n",
    "        seq = np.zeros([len_seq], dtype=np.int32)\n",
    "        #print(np.shape(seq[-maxlen:]))\n",
    "        while(len(hist)<maxlen):\n",
    "            hist.insert(0,0)\n",
    "        #print(len(hist),hist)\n",
    "        hist=hist[-maxlen:-2]\n",
    "        for i in range(len_seq,len(hist)):\n",
    "            seq = np.zeros([len_seq], dtype=np.int32)\n",
    "            #rint(hist[max(0,i-len_seq):i])\n",
    "            seq=hist[max(0,i-len_seq):i]\n",
    "            idx+=-1\n",
    "            nxt = hist[i]\n",
    "            #print((u,seq,nxt))\n",
    "            neg_item = [random.randint(1, items_num) for _ in range(neg_num)]\n",
    "            train_set.append((u,list(seq),nxt,neg_item))\n",
    "            #print(seq)\n",
    "        #print(np.shape(hist[0:len(hist)-1]))\n",
    "        train_val_set.append((u,list(seq),nxt))\n",
    "        seq = np.zeros([len_seq], dtype=np.int32)\n",
    "        seq=hist[-len_seq-2:-2]\n",
    "        nxt = user_dict[u][-2]\n",
    "        neg_item = [random.randint(1, items_num) for _ in range(neg_num)]\n",
    "        val_set.append((u,list(seq),nxt,neg_item))\n",
    "        seq = np.zeros([len_seq], dtype=np.int32)\n",
    "        seq=hist[-len_seq-1:-1]\n",
    "        nxt = user_dict[u][-1]\n",
    "        neg_item = [random.randint(1, items_num) for _ in range(test_neg_num)]\n",
    "        test_set.append((u,list(seq),nxt,neg_item))\n",
    "    random.shuffle(train_set)\n",
    "    random.shuffle(test_set)\n",
    "    return train_set,test_set ,val_set,train_val_set   "
   ]
  },
  {
   "cell_type": "code",
   "execution_count": 5,
   "id": "904dd44f-cae8-4e03-a8f7-a76fbffae7ed",
   "metadata": {
    "colab": {
     "base_uri": "https://localhost:8080/"
    },
    "executionInfo": {
     "elapsed": 10644,
     "status": "ok",
     "timestamp": 1666147051799,
     "user": {
      "displayName": "yijun sheng",
      "userId": "07090048668815296857"
     },
     "user_tz": -480
    },
    "id": "904dd44f-cae8-4e03-a8f7-a76fbffae7ed",
    "outputId": "ed0c9e6f-4f87-4948-8e74-586ec0c0f5ce"
   },
   "outputs": [
    {
     "data": {
      "text/plain": [
       "'train_set,test_set,val_set,train_val_set=non_zero_sample(user_dict,maxlen,len_seq)\\nprint(len(train_set),len(test_set),len(val_set),len(train_val_set))\\nusers_num=len(test_set)'"
      ]
     },
     "execution_count": 5,
     "metadata": {},
     "output_type": "execute_result"
    }
   ],
   "source": [
    "'''train_set,test_set,val_set,train_val_set=non_zero_sample(user_dict,maxlen,len_seq)\n",
    "print(len(train_set),len(test_set),len(val_set),len(train_val_set))\n",
    "users_num=len(test_set)'''"
   ]
  },
  {
   "cell_type": "code",
   "execution_count": 6,
   "id": "881ce4c1-a8b0-4c59-98db-5c6df6ae46a1",
   "metadata": {
    "executionInfo": {
     "elapsed": 7653,
     "status": "ok",
     "timestamp": 1666147060872,
     "user": {
      "displayName": "yijun sheng",
      "userId": "07090048668815296857"
     },
     "user_tz": -480
    },
    "id": "881ce4c1-a8b0-4c59-98db-5c6df6ae46a1"
   },
   "outputs": [
    {
     "data": {
      "text/plain": [
       "\"users, click_seqs, pos_items,neg_items = zip(*train_set)\\ntrain_data = {'click_seq': np.array(click_seqs), 'pos_item': np.array(pos_items),'neg_item':np.array(neg_items)}\\nusers, click_seqs, pos_items,neg_items = zip(*test_set)\\ntest_data = {'click_seq': np.array(click_seqs), 'pos_item': np.array(pos_items),'neg_item':np.array(neg_items)}\""
      ]
     },
     "execution_count": 6,
     "metadata": {},
     "output_type": "execute_result"
    }
   ],
   "source": [
    "'''users, click_seqs, pos_items,neg_items = zip(*train_set)\n",
    "train_data = {'click_seq': np.array(click_seqs), 'pos_item': np.array(pos_items),'neg_item':np.array(neg_items)}\n",
    "users, click_seqs, pos_items,neg_items = zip(*test_set)\n",
    "test_data = {'click_seq': np.array(click_seqs), 'pos_item': np.array(pos_items),'neg_item':np.array(neg_items)}'''"
   ]
  },
  {
   "cell_type": "code",
   "execution_count": 7,
   "id": "24f797c1-5792-488a-8b21-80899259f7ac",
   "metadata": {},
   "outputs": [],
   "source": [
    "with open('/root/autodl-nas/workspace/datasets/ml/ml-1m/train_data.pkl', 'rb') as f:\n",
    "    train_data=pickle.load(f)\n",
    "with open('/root/autodl-nas/workspace/datasets/ml/ml-1m/test_data.pkl', 'rb') as f:\n",
    "    test_data=pickle.load(f)\n",
    "with open('/root/autodl-nas/workspace/datasets/ml/ml-1m/val_data.pkl', 'rb') as f:\n",
    "    val_data=pickle.load(f)"
   ]
  },
  {
   "cell_type": "code",
   "execution_count": 8,
   "id": "32879739-778f-4a8b-aabe-f2b701d2253b",
   "metadata": {
    "colab": {
     "base_uri": "https://localhost:8080/"
    },
    "executionInfo": {
     "elapsed": 37,
     "status": "ok",
     "timestamp": 1666147060873,
     "user": {
      "displayName": "yijun sheng",
      "userId": "07090048668815296857"
     },
     "user_tz": -480
    },
    "id": "32879739-778f-4a8b-aabe-f2b701d2253b",
    "outputId": "aee1763d-8d01-4cd4-dc71-45ce49bb75d9"
   },
   "outputs": [
    {
     "name": "stdout",
     "output_type": "stream",
     "text": [
      "(289920, 4) (6040, 100) (6040, 4)\n"
     ]
    }
   ],
   "source": [
    "print(np.shape(train_data['neg_item']),np.shape(test_data['neg_item']),np.shape(val_data['neg_item']))"
   ]
  },
  {
   "cell_type": "code",
   "execution_count": 9,
   "id": "1df82d54-78b8-48b8-84b9-ad4896e2236a",
   "metadata": {
    "executionInfo": {
     "elapsed": 34,
     "status": "ok",
     "timestamp": 1666147060873,
     "user": {
      "displayName": "yijun sheng",
      "userId": "07090048668815296857"
     },
     "user_tz": -480
    },
    "id": "1df82d54-78b8-48b8-84b9-ad4896e2236a"
   },
   "outputs": [],
   "source": [
    "def scaled_dot_product_attention(q, k, v, mask):\n",
    "    \"\"\"Attention Mechanism Function.\n",
    "    Args:\n",
    "        :param q: A 3d/4d tensor with shape of (None, ..., seq_len, dim)\n",
    "        :param k: A 3d/4d tensor with shape of (None, ..., seq_len, dim)\n",
    "        :param v: A 3d/4d tensor with shape of (None, ..., seq_len, dim)\n",
    "        :param mask: A 3d/4d tensor with shape of (None, ..., seq_len, 1)\n",
    "    :return:\n",
    "    \"\"\"\n",
    "    mat_qk = tf.matmul(q, k, transpose_b=True)  # (None, seq_len, seq_len)\n",
    "    # Scaled\n",
    "    dk = tf.cast(k.shape[-1], dtype=tf.float32)\n",
    "    scaled_att_logits = mat_qk / tf.sqrt(dk)\n",
    "\n",
    "    paddings = tf.ones_like(scaled_att_logits) * (-2 ** 32 + 1)  # (None, seq_len, seq_len)\n",
    "    if mask!=None:\n",
    "        outputs = tf.where(tf.equal(mask, tf.zeros_like(mask)), paddings, scaled_att_logits)  # (None, seq_len, seq_len)\n",
    "    else:\n",
    "        outputs=scaled_att_logits\n",
    "    # softmax\n",
    "    outputs = tf.nn.softmax(logits=outputs)  # (None, seq_len, seq_len)\n",
    "    outputs = tf.matmul(outputs, v)  # (None, seq_len, dim)\n",
    "\n",
    "    return outputs\n",
    "\n",
    "\n",
    "def split_heads(x, seq_len, num_heads, depth):\n",
    "    \"\"\"Split the last dimension into (num_heads, depth).\n",
    "        Transpose the result such that the shape is (batch_size, num_heads, seq_len, depth)\n",
    "    Args:\n",
    "        :param x: A Tensor with shape of [batch_size, seq_len, num_heads * depth]\n",
    "        :param seq_len: A scalar(int).\n",
    "        :param num_heads: A scalar(int).\n",
    "        :param depth: A scalar(int).\n",
    "    :return: A tensor with shape of [batch_size, num_heads, seq_len, depth]\n",
    "    \"\"\"\n",
    "    x = tf.reshape(x, (-1, seq_len, num_heads, depth))\n",
    "    return tf.transpose(x, perm=[0, 2, 1, 3])"
   ]
  },
  {
   "cell_type": "code",
   "execution_count": 10,
   "id": "e1382056-672c-4683-a46a-dca40cd582b2",
   "metadata": {
    "executionInfo": {
     "elapsed": 328,
     "status": "ok",
     "timestamp": 1666147079765,
     "user": {
      "displayName": "yijun sheng",
      "userId": "07090048668815296857"
     },
     "user_tz": -480
    },
    "id": "e1382056-672c-4683-a46a-dca40cd582b2"
   },
   "outputs": [],
   "source": [
    "class MultiHeadAttention(tf.keras.layers.Layer):\n",
    "    def __init__(self, d_model, num_heads):\n",
    "        \"\"\"Multi Head Attention Mechanism.\n",
    "        Args:\n",
    "            :param d_model: A scalar. The self-attention hidden size.\n",
    "            :param num_heads: A scalar. Number of heads. If num_heads == 1, the layer is a single self-attention layer.\n",
    "        :return:\n",
    "        \"\"\"\n",
    "        super(MultiHeadAttention, self).__init__()\n",
    "        self.d_model = d_model\n",
    "        self.num_heads = num_heads\n",
    "\n",
    "        self.wq = tf.keras.layers.Dense(d_model, activation=None)\n",
    "        self.wk = tf.keras.layers.Dense(d_model, activation=None)\n",
    "        self.wv = tf.keras.layers.Dense(d_model, activation=None)\n",
    "\n",
    "    def call(self, q, k, v, mask):\n",
    "        q = self.wq(q)  # (None, seq_len, d_model)\n",
    "        k = self.wk(k)  # (None, seq_len, d_model)\n",
    "        v = self.wv(v)  # (None, seq_len, d_model)\n",
    "        # split d_model into num_heads * depth\n",
    "        seq_len, d_model = q.shape[1], q.shape[2]\n",
    "        q = split_heads(q, seq_len, self.num_heads, q.shape[2] // self.num_heads)  # (None, num_heads, seq_len, depth)\n",
    "        k = split_heads(k, seq_len, self.num_heads, k.shape[2] // self.num_heads)  # (None, num_heads, seq_len, depth)\n",
    "        v = split_heads(v, seq_len, self.num_heads, v.shape[2] // self.num_heads)  # (None, num_heads, seq_len, depth)\n",
    "        # mask\n",
    "        if mask!=None:\n",
    "            mask = tf.tile(tf.expand_dims(mask, axis=1), [1, self.num_heads, 1, 1])  # (None, num_heads, seq_len, 1)\n",
    "        # attention\n",
    "        scaled_attention = scaled_dot_product_attention(q, k, v, mask)  # (None, num_heads, seq_len, d_model // num_heads)\n",
    "        # reshape\n",
    "        outputs = tf.reshape(tf.transpose(scaled_attention, [0, 2, 1, 3]), [-1, seq_len, d_model])  # (None, seq_len, d_model)\n",
    "        return outputs\n",
    "\n",
    "\n",
    "class FFN(tf.keras.layers.Layer):\n",
    "    def __init__(self, hidden_unit, d_model):\n",
    "        \"\"\"Feed Forward Network.\n",
    "        Args:\n",
    "            :param hidden_unit: A scalar.\n",
    "            :param d_model: A scalar.\n",
    "        :return:\n",
    "        \"\"\"\n",
    "        super(FFN, self).__init__()\n",
    "        self.conv1 = tf.keras.layers.Conv1D(filters=hidden_unit, kernel_size=1, activation='relu', use_bias=True)\n",
    "        self.conv2 = tf.keras.layers.Conv1D(filters=d_model, kernel_size=1, activation=None, use_bias=True)\n",
    "\n",
    "    def call(self, inputs):\n",
    "        x = self.conv1(inputs)\n",
    "        output = self.conv2(x)\n",
    "        return output\n",
    "\n",
    "\n",
    "class TransformerEncoder(tf.keras.layers.Layer):\n",
    "    def __init__(self, d_model, num_heads=1, ffn_hidden_unit=128, dropout=0., layer_norm_eps=1e-6):\n",
    "        \"\"\"Encoder Layer.\n",
    "        Args:\n",
    "            :param d_model: A scalar. The self-attention hidden size.\n",
    "            :param num_heads: A scalar. Number of heads.\n",
    "            :param ffn_hidden_unit: A scalar. Number of hidden unit in FFN\n",
    "            :param dropout: A scalar. Number of dropout.\n",
    "            :param layer_norm_eps: A scalar. Small float added to variance to avoid dividing by zero.\n",
    "        :return:\n",
    "        \"\"\"\n",
    "        super(TransformerEncoder, self).__init__()\n",
    "        self.mha = MultiHeadAttention(d_model, num_heads)\n",
    "        self.ffn = FFN(ffn_hidden_unit, d_model)\n",
    "\n",
    "        self.layernorm1 = tf.keras.layers.LayerNormalization(epsilon=layer_norm_eps)\n",
    "        self.layernorm2 = tf.keras.layers.LayerNormalization(epsilon=layer_norm_eps)\n",
    "\n",
    "        self.dropout1 = tf.keras.layers.Dropout(dropout)\n",
    "        self.dropout2 = tf.keras.layers.Dropout(dropout)\n",
    "\n",
    "    def call(self, inputs):\n",
    "        x, mask= inputs\n",
    "        # self-attention\n",
    "        att_out = self.mha(x, x, x, mask)  # (None, seq_len, d_model)\n",
    "        att_out = self.dropout1(att_out)\n",
    "        # residual add\n",
    "        out1 = self.layernorm1(x + att_out)  # (None, seq_len, d_model)\n",
    "        # ffn\n",
    "        ffn_out = self.ffn(out1)\n",
    "        ffn_out = self.dropout2(ffn_out)\n",
    "        # residual add\n",
    "        out2 = self.layernorm2(out1 + ffn_out)  # (None, seq_len, d_model)\n",
    "        return out2\n",
    "\n",
    "class hierarchical_interest(tf.keras.layers.Layer):\n",
    "    def __init__(self, d_model, num_heads):\n",
    "        \"\"\"Multi Head Attention Mechanism.\n",
    "        Args:\n",
    "            :param d_model: A scalar. The self-attention hidden size.\n",
    "            :param num_heads: A scalar. Number of heads. If num_heads == 1, the layer is a single self-attention layer.\n",
    "        :return:\n",
    "        \"\"\"\n",
    "        super(hierarchical_interest, self).__init__()\n",
    "        self.d_model = d_model\n",
    "        self.num_heads = num_heads\n",
    "        self.conv_layer_dict={}\n",
    "        for i in range(0,layers_num-1):\n",
    "            self.conv_layer_dict['conv_layer_'+str(i)]=tf.nn.softmax(tf.Variable(initial_value=tf.random.truncated_normal([int((layers_num-1-i)*len_seq/(layers_num-1)),1,1,1],mean=0.5,stddev=1),name='w_'+str(i)),axis=0)\n",
    "\n",
    "        self.conv_layer_dict['conv_layer_'+str(layers_num-1)]=tf.nn.softmax(tf.Variable(initial_value=tf.random.truncated_normal([1,1,1,1],mean=0.5,stddev=1),name='w_'+str(layers_num-1)),axis=0)\n",
    "        self.layernorm = tf.keras.layers.LayerNormalization()\n",
    "    def call(self, x):\n",
    "        all_embeddings=[0]*layers_num\n",
    "        all_embeddings[-1]=tf.nn.conv2d(tf.expand_dims(x,-1),self.conv_layer_dict['conv_layer_0'],[1,1,1,1],'SAME')\n",
    "        all_embeddings[-1]=tf.squeeze(all_embeddings[-1],-1)\n",
    "        for i,_ in enumerate(all_embeddings):\n",
    "            #print(i)\n",
    "            if i==len(all_embeddings)-1:\n",
    "                break\n",
    "            all_embeddings[i]=tf.nn.conv2d(tf.expand_dims(x,-1),self.conv_layer_dict['conv_layer_'+str(layers_num-1-i)],[1,1,1,1],'SAME')\n",
    "            all_embeddings[i]=tf.squeeze(all_embeddings[i],-1)\n",
    "            all_embeddings[i]=all_embeddings[i]-scaled_dot_product_attention(all_embeddings[i],\n",
    "                                                                             all_embeddings[-1],all_embeddings[-1],None)\n",
    "            all_embeddings[i]=self.layernorm(all_embeddings[i])\n",
    "        return all_embeddings"
   ]
  },
  {
   "cell_type": "code",
   "execution_count": 11,
   "id": "49fb9d25-6709-4545-9211-898760d749eb",
   "metadata": {
    "executionInfo": {
     "elapsed": 322,
     "status": "ok",
     "timestamp": 1666147141304,
     "user": {
      "displayName": "yijun sheng",
      "userId": "07090048668815296857"
     },
     "user_tz": -480
    },
    "id": "49fb9d25-6709-4545-9211-898760d749eb"
   },
   "outputs": [],
   "source": [
    "class sasrec(tf.keras.models.Model):\n",
    "    def __init__(self):\n",
    "        super(sasrec, self).__init__()\n",
    "        blocks=1\n",
    "        embed_reg=0.\n",
    "        layer_norm_eps=1e-6\n",
    "        num_heads=1\n",
    "        use_l2norm=False\n",
    "        \n",
    "        self.len_seq=len_seq\n",
    "        self.item_embedding = tf.keras.layers.Embedding(items_num+1,hidden_size,input_length=self.len_seq,\n",
    "                                                       embeddings_initializer='random_normal',\n",
    "                                                        embeddings_regularizer=tf.keras.regularizers.l2(embed_reg))\n",
    "        self.pos_embedding = tf.keras.layers.Embedding(len_seq,int(hidden_size/kernel_size),input_length=1,\n",
    "                                                       embeddings_initializer='random_normal',\n",
    "                                        embeddings_regularizer=tf.keras.regularizers.l2(embed_reg))\n",
    "        self.dropout = tf.keras.layers.Dropout(1-keep_rate)\n",
    "        self.hiera=hierarchical_interest(hidden_size,0)\n",
    "        #self.final_dense=tf.keras.layers.Dense(hidden_size,activation=None)\n",
    "        self.encoder_layer_dict={}\n",
    "        if multi_transformer:\n",
    "            for i in range(0,layers_num):\n",
    "                self.encoder_layer_dict['encoder_layer_'+str(i)]=[TransformerEncoder(int(hidden_size/kernel_size), num_heads, 128,\n",
    "                                                 (1-keep_rate), layer_norm_eps) for _ in range(blocks)]\n",
    "        else:\n",
    "            self.encoder_layer_dict['encoder_layer_'+str(0)]=[TransformerEncoder(int(hidden_size/kernel_size), num_heads, 128,\n",
    "                                                 (1-keep_rate), layer_norm_eps) for _ in range(blocks)]\n",
    "                                                 \n",
    "        # norm\n",
    "        self.use_l2norm = use_l2norm\n",
    "        \n",
    "    \n",
    "    def call(self, inputs):\n",
    "        seq_embed=self.item_embedding(inputs['click_seq'])\n",
    "        #pos_encoding = tf.expand_dims(self.pos_embedding(tf.range(self.len_seq)), axis=0)  # (1, seq_len, embed_dim)\n",
    "        #seq_embed += pos_encoding\n",
    "\n",
    "        seq_embed = self.dropout(seq_embed)\n",
    "        \n",
    "        all_embeddings=self.hiera(seq_embed)#layer_num\n",
    "        #all_embeddings=self.hiera(all_embeddings)\n",
    "        pos_encoding = tf.expand_dims(self.pos_embedding(tf.range(self.len_seq)), axis=0)\n",
    "        att_outputs_dict={}\n",
    "        for i,element in enumerate(all_embeddings):\n",
    "            att_outputs_dict['embed_'+str(i)]=element+pos_encoding\n",
    "        if multi_transformer:\n",
    "            for i in range(0,layers_num):\n",
    "                for block in self.encoder_layer_dict['encoder_layer_'+str(i)]:\n",
    "                    att_outputs_dict['embed_'+str(i)] = block([att_outputs_dict['embed_'+str(i)],None])\n",
    "        else:\n",
    "            for i in range(0,layers_num):\n",
    "                for block in self.encoder_layer_dict['encoder_layer_'+str(0)]:\n",
    "                    att_outputs_dict['embed_'+str(i)] = block([att_outputs_dict['embed_'+str(i)],None])\n",
    "        interest_dict={}\n",
    "        for i in range(0,layers_num):\n",
    "            interest_dict['interest_'+str(i)]=tf.slice(att_outputs_dict['embed_'+str(i)], begin=[0, self.len_seq-1, 0], size=[-1, 1, -1])\n",
    "        \n",
    "        mixed_interest=tf.concat([interest_dict['interest_'+str(i)] for i in range(layers_num)],axis=-2)#[b,3,h]\n",
    "        \n",
    "        #mixed_interest=self.final_dense(mixed_interest)\n",
    "        #mixed_interest=interest_emb_3\n",
    "        #mixed_interest=tf.squeeze(mixed_interest,axis=1)\n",
    "        \n",
    "        self.mixed_interest=mixed_interest\n",
    "        \n",
    "        if self.use_l2norm:\n",
    "            pos_emb = tf.math.l2_normalize(pos_emb, axis=-1)\n",
    "            neg_emb = tf.math.l2_normalize(neg_emb, axis=-1)\n",
    "            user_info = tf.math.l2_normalize(user_info, axis=-1)\n",
    "\n",
    "        pos_emb=self.item_embedding(tf.reshape(inputs['pos_item'], [-1, ]))#[b,h]\n",
    "        expanded_target_item=tf.expand_dims(pos_emb,axis=1)#[b,1,h]\n",
    "\n",
    "        alpha=tf.matmul(expanded_target_item,tf.transpose(mixed_interest,[0,2,1]))#[b,1,3]\n",
    "        alpha=tf.nn.softmax(alpha)\n",
    "        \n",
    "\n",
    "        res = tf.matmul(alpha,mixed_interest)#[b,1,h]\n",
    "        pos_score=tf.reduce_sum(tf.multiply(res,expanded_target_item),axis=-1)#[b,1]\n",
    "\n",
    "        neg_emb=self.item_embedding(inputs['neg_item'])#[b,neg_num,h]\n",
    "        alpha=tf.matmul(neg_emb,tf.transpose(mixed_interest,[0,2,1]))#[b,neg_num,3]\n",
    "        alpha=tf.nn.softmax(alpha)\n",
    "        \n",
    "        #[b,t,1,3]*[b,1,3,h]=[b,t,1,h] squeeze=[b,t,h]\n",
    "        res = tf.matmul(alpha,mixed_interest)#[b,neg_num,h]\n",
    "        neg_score=tf.reduce_sum(tf.multiply(res,neg_emb),axis=-1)#[b,neg_num]\n",
    "        \n",
    "        \n",
    "        \n",
    "        \n",
    "        logits = tf.concat([pos_score, neg_score], axis=-1)\n",
    "        pos_score = tf.tile(pos_score, [1, neg_score.shape[1]])\n",
    "        \n",
    "        loss = tf.reduce_mean(- tf.math.log(tf.nn.sigmoid(pos_score)) - tf.math.log(1 - tf.nn.sigmoid(neg_score))) / 2\n",
    "        self.add_loss(loss)\n",
    "        \n",
    "        return logits\n",
    "    \n",
    "    def summary(self):\n",
    "        inputs = {\n",
    "            'click_seq': tf.keras.layers.Input(shape=(self.len_seq,), dtype=tf.int32),\n",
    "            'pos_item': tf.keras.layers.Input(shape=(), dtype=tf.int32),\n",
    "            'neg_item': tf.keras.layers.Input(shape=(1,), dtype=tf.int32)  # suppose neg_num=1\n",
    "        }\n",
    "        tf.keras.models.Model(inputs=inputs, outputs=self.call(inputs)).summary()"
   ]
  },
  {
   "cell_type": "code",
   "execution_count": 12,
   "id": "ab39a04b-df32-46da-93f0-7f2749da22d5",
   "metadata": {
    "executionInfo": {
     "elapsed": 2,
     "status": "ok",
     "timestamp": 1666147143886,
     "user": {
      "displayName": "yijun sheng",
      "userId": "07090048668815296857"
     },
     "user_tz": -480
    },
    "id": "ab39a04b-df32-46da-93f0-7f2749da22d5"
   },
   "outputs": [],
   "source": [
    "def hr(rank, k):\n",
    "    \"\"\"Hit Rate.\n",
    "    Args:\n",
    "        :param rank: A list.\n",
    "        :param k: A scalar(int).\n",
    "    :return: hit rate.\n",
    "    \"\"\"\n",
    "    res = 0.0\n",
    "    for r in rank:\n",
    "        if r < k:\n",
    "            res += 1\n",
    "    return res / len(rank)\n",
    "\n",
    "\n",
    "def mrr(rank, k):\n",
    "    \"\"\"Mean Reciprocal Rank.\n",
    "    Args:\n",
    "        :param rank: A list.\n",
    "        :param k: A scalar(int).\n",
    "    :return: mrr.\n",
    "    \"\"\"\n",
    "    mrr = 0.0\n",
    "    for r in rank:\n",
    "        if r < k:\n",
    "            mrr += 1 / (r + 1)\n",
    "    return mrr / len(rank)\n",
    "\n",
    "\n",
    "def ndcg(rank, k):\n",
    "    \"\"\"Normalized Discounted Cumulative Gain.\n",
    "    Args:\n",
    "        :param rank: A list.\n",
    "        :param k: A scalar(int).\n",
    "    :return: ndcg.\n",
    "    \"\"\"\n",
    "    res = 0.0\n",
    "    for r in rank:\n",
    "        if r < k:\n",
    "            res += 1 / np.log2(r + 2)\n",
    "    return res / len(rank)\n",
    "\n",
    "\n",
    "def eval_rank(pred_y, metric_names, k=10):\n",
    "    \"\"\"Evaluate\n",
    "        Args:\n",
    "            :param pred_y: A ndarray.\n",
    "            :param metric_names: A list like ['hr'].\n",
    "            :param k: A scalar(int).\n",
    "        :return: A result dict such as {'hr':, 'ndcg':, ...}\n",
    "    \"\"\"\n",
    "    rank = pred_y.argsort().argsort()[:, 0]\n",
    "    res_dict = {}\n",
    "    for name in metric_names:\n",
    "        if name == 'hr':\n",
    "            res = hr(rank, k)\n",
    "        elif name == 'ndcg':\n",
    "            res = ndcg(rank, k)\n",
    "        elif name == 'mrr':\n",
    "            res = mrr(rank, k)\n",
    "        else:\n",
    "            break\n",
    "        res_dict[name] = res\n",
    "    return res_dict\n",
    "\n",
    "def eval_pos_neg(model, test_data, metric_names, k=10, batch_size=None):\n",
    "    \"\"\"Evaluate the performance of Top-k recommendation algorithm.\n",
    "    Note: Test data must contain some negative samples(>= k) and one positive samples.\n",
    "    Args:\n",
    "        :param model: A model built-by tensorflow.\n",
    "        :param test_data: A dict.\n",
    "        :param metric_names: A list like ['hr'].\n",
    "        :param k: A scalar(int).\n",
    "        :param batch_size: A scalar(int).\n",
    "    :return: A result dict such as {'hr':, 'ndcg':, ...}\n",
    "    \"\"\"\n",
    "    pred_y = - model.predict(test_data, batch_size)\n",
    "    print(np.shape(pred_y))\n",
    "    return eval_rank(pred_y, metric_names, k)"
   ]
  },
  {
   "cell_type": "code",
   "execution_count": 13,
   "id": "353579ef-1c15-4f15-a7af-2db1259d4228",
   "metadata": {},
   "outputs": [],
   "source": [
    "callback = tf.keras.callbacks.EarlyStopping(monitor='val_loss', patience=3)"
   ]
  },
  {
   "cell_type": "code",
   "execution_count": 14,
   "id": "3d0933a7-b926-4371-a008-0e992c04d096",
   "metadata": {
    "colab": {
     "base_uri": "https://localhost:8080/"
    },
    "id": "3d0933a7-b926-4371-a008-0e992c04d096",
    "outputId": "b91891a5-5d41-462b-fa17-174a05dafd46"
   },
   "outputs": [
    {
     "name": "stdout",
     "output_type": "stream",
     "text": [
      "WARNING:tensorflow:Collective ops is not configured at program startup. Some performance features may not be enabled.\n",
      "INFO:tensorflow:Using MirroredStrategy with devices ('/job:localhost/replica:0/task:0/device:GPU:0', '/job:localhost/replica:0/task:0/device:GPU:1')\n",
      "Model: \"model\"\n",
      "__________________________________________________________________________________________________\n",
      "Layer (type)                    Output Shape         Param #     Connected to                     \n",
      "==================================================================================================\n",
      "input_2 (InputLayer)            [(None,)]            0                                            \n",
      "__________________________________________________________________________________________________\n",
      "tf.reshape (TFOpLambda)         (None,)              0           input_2[0][0]                    \n",
      "__________________________________________________________________________________________________\n",
      "input_1 (InputLayer)            [(None, 50)]         0                                            \n",
      "__________________________________________________________________________________________________\n",
      "embedding (Embedding)           multiple             161664      input_1[0][0]                    \n",
      "                                                                 tf.reshape[0][0]                 \n",
      "                                                                 input_3[0][0]                    \n",
      "__________________________________________________________________________________________________\n",
      "dropout (Dropout)               (None, 50, 64)       0           embedding[0][0]                  \n",
      "__________________________________________________________________________________________________\n",
      "hierarchical_interest (hierarch [(None, 50, 64), (No 128         dropout[0][0]                    \n",
      "__________________________________________________________________________________________________\n",
      "tf.__operators__.add (TFOpLambd (None, 50, 64)       0           hierarchical_interest[0][0]      \n",
      "__________________________________________________________________________________________________\n",
      "tf.__operators__.add_1 (TFOpLam (None, 50, 64)       0           hierarchical_interest[0][1]      \n",
      "__________________________________________________________________________________________________\n",
      "tf.__operators__.add_2 (TFOpLam (None, 50, 64)       0           hierarchical_interest[0][2]      \n",
      "__________________________________________________________________________________________________\n",
      "tf.__operators__.add_3 (TFOpLam (None, 50, 64)       0           hierarchical_interest[0][3]      \n",
      "__________________________________________________________________________________________________\n",
      "tf.__operators__.add_4 (TFOpLam (None, 50, 64)       0           hierarchical_interest[0][4]      \n",
      "__________________________________________________________________________________________________\n",
      "tf.__operators__.add_5 (TFOpLam (None, 50, 64)       0           hierarchical_interest[0][5]      \n",
      "__________________________________________________________________________________________________\n",
      "tf.__operators__.add_6 (TFOpLam (None, 50, 64)       0           hierarchical_interest[0][6]      \n",
      "__________________________________________________________________________________________________\n",
      "tf.__operators__.add_7 (TFOpLam (None, 50, 64)       0           hierarchical_interest[0][7]      \n",
      "__________________________________________________________________________________________________\n",
      "tf.__operators__.add_8 (TFOpLam (None, 50, 64)       0           hierarchical_interest[0][8]      \n",
      "__________________________________________________________________________________________________\n",
      "tf.__operators__.add_9 (TFOpLam (None, 50, 64)       0           hierarchical_interest[0][9]      \n",
      "__________________________________________________________________________________________________\n",
      "transformer_encoder (Transforme (None, 50, 64)       29312       tf.__operators__.add[0][0]       \n",
      "                                                                 tf.__operators__.add_1[0][0]     \n",
      "                                                                 tf.__operators__.add_2[0][0]     \n",
      "                                                                 tf.__operators__.add_3[0][0]     \n",
      "                                                                 tf.__operators__.add_4[0][0]     \n",
      "                                                                 tf.__operators__.add_5[0][0]     \n",
      "                                                                 tf.__operators__.add_6[0][0]     \n",
      "                                                                 tf.__operators__.add_7[0][0]     \n",
      "                                                                 tf.__operators__.add_8[0][0]     \n",
      "                                                                 tf.__operators__.add_9[0][0]     \n",
      "__________________________________________________________________________________________________\n",
      "tf.slice (TFOpLambda)           (None, 1, 64)        0           transformer_encoder[0][0]        \n",
      "__________________________________________________________________________________________________\n",
      "tf.slice_1 (TFOpLambda)         (None, 1, 64)        0           transformer_encoder[1][0]        \n",
      "__________________________________________________________________________________________________\n",
      "tf.slice_2 (TFOpLambda)         (None, 1, 64)        0           transformer_encoder[2][0]        \n",
      "__________________________________________________________________________________________________\n",
      "tf.slice_3 (TFOpLambda)         (None, 1, 64)        0           transformer_encoder[3][0]        \n",
      "__________________________________________________________________________________________________\n",
      "tf.slice_4 (TFOpLambda)         (None, 1, 64)        0           transformer_encoder[4][0]        \n",
      "__________________________________________________________________________________________________\n",
      "tf.slice_5 (TFOpLambda)         (None, 1, 64)        0           transformer_encoder[5][0]        \n",
      "__________________________________________________________________________________________________\n",
      "tf.slice_6 (TFOpLambda)         (None, 1, 64)        0           transformer_encoder[6][0]        \n",
      "__________________________________________________________________________________________________\n",
      "tf.slice_7 (TFOpLambda)         (None, 1, 64)        0           transformer_encoder[7][0]        \n",
      "__________________________________________________________________________________________________\n",
      "tf.slice_8 (TFOpLambda)         (None, 1, 64)        0           transformer_encoder[8][0]        \n",
      "__________________________________________________________________________________________________\n",
      "tf.slice_9 (TFOpLambda)         (None, 1, 64)        0           transformer_encoder[9][0]        \n",
      "__________________________________________________________________________________________________\n",
      "tf.concat (TFOpLambda)          (None, 10, 64)       0           tf.slice[0][0]                   \n",
      "                                                                 tf.slice_1[0][0]                 \n",
      "                                                                 tf.slice_2[0][0]                 \n",
      "                                                                 tf.slice_3[0][0]                 \n",
      "                                                                 tf.slice_4[0][0]                 \n",
      "                                                                 tf.slice_5[0][0]                 \n",
      "                                                                 tf.slice_6[0][0]                 \n",
      "                                                                 tf.slice_7[0][0]                 \n",
      "                                                                 tf.slice_8[0][0]                 \n",
      "                                                                 tf.slice_9[0][0]                 \n",
      "__________________________________________________________________________________________________\n",
      "input_3 (InputLayer)            [(None, 1)]          0                                            \n",
      "__________________________________________________________________________________________________\n",
      "tf.expand_dims (TFOpLambda)     (None, 1, 64)        0           embedding[1][0]                  \n",
      "__________________________________________________________________________________________________\n",
      "tf.compat.v1.transpose (TFOpLam (None, 64, 10)       0           tf.concat[0][0]                  \n",
      "__________________________________________________________________________________________________\n",
      "tf.compat.v1.transpose_1 (TFOpL (None, 64, 10)       0           tf.concat[0][0]                  \n",
      "__________________________________________________________________________________________________\n",
      "tf.linalg.matmul (TFOpLambda)   (None, 1, 10)        0           tf.expand_dims[0][0]             \n",
      "                                                                 tf.compat.v1.transpose[0][0]     \n",
      "__________________________________________________________________________________________________\n",
      "tf.linalg.matmul_2 (TFOpLambda) (None, 1, 10)        0           embedding[2][0]                  \n",
      "                                                                 tf.compat.v1.transpose_1[0][0]   \n",
      "__________________________________________________________________________________________________\n",
      "tf.nn.softmax (TFOpLambda)      (None, 1, 10)        0           tf.linalg.matmul[0][0]           \n",
      "__________________________________________________________________________________________________\n",
      "tf.nn.softmax_1 (TFOpLambda)    (None, 1, 10)        0           tf.linalg.matmul_2[0][0]         \n",
      "__________________________________________________________________________________________________\n",
      "tf.linalg.matmul_1 (TFOpLambda) (None, 1, 64)        0           tf.nn.softmax[0][0]              \n",
      "                                                                 tf.concat[0][0]                  \n",
      "__________________________________________________________________________________________________\n",
      "tf.linalg.matmul_3 (TFOpLambda) (None, 1, 64)        0           tf.nn.softmax_1[0][0]            \n",
      "                                                                 tf.concat[0][0]                  \n",
      "__________________________________________________________________________________________________\n",
      "tf.math.multiply (TFOpLambda)   (None, 1, 64)        0           tf.linalg.matmul_1[0][0]         \n",
      "                                                                 tf.expand_dims[0][0]             \n",
      "__________________________________________________________________________________________________\n",
      "tf.math.multiply_1 (TFOpLambda) (None, 1, 64)        0           tf.linalg.matmul_3[0][0]         \n",
      "                                                                 embedding[2][0]                  \n",
      "__________________________________________________________________________________________________\n",
      "tf.math.reduce_sum (TFOpLambda) (None, 1)            0           tf.math.multiply[0][0]           \n",
      "__________________________________________________________________________________________________\n",
      "tf.math.reduce_sum_1 (TFOpLambd (None, 1)            0           tf.math.multiply_1[0][0]         \n",
      "__________________________________________________________________________________________________\n",
      "tf.concat_1 (TFOpLambda)        (None, 2)            0           tf.math.reduce_sum[0][0]         \n",
      "                                                                 tf.math.reduce_sum_1[0][0]       \n",
      "==================================================================================================\n",
      "Total params: 191,104\n",
      "Trainable params: 191,104\n",
      "Non-trainable params: 0\n",
      "__________________________________________________________________________________________________\n",
      "INFO:tensorflow:Reduce to /job:localhost/replica:0/task:0/device:CPU:0 then broadcast to ('/job:localhost/replica:0/task:0/device:CPU:0',).\n",
      "INFO:tensorflow:Reduce to /job:localhost/replica:0/task:0/device:CPU:0 then broadcast to ('/job:localhost/replica:0/task:0/device:CPU:0',).\n",
      "INFO:tensorflow:Reduce to /job:localhost/replica:0/task:0/device:CPU:0 then broadcast to ('/job:localhost/replica:0/task:0/device:CPU:0',).\n",
      "INFO:tensorflow:Reduce to /job:localhost/replica:0/task:0/device:CPU:0 then broadcast to ('/job:localhost/replica:0/task:0/device:CPU:0',).\n",
      "INFO:tensorflow:batch_all_reduce: 18 all-reduces with algorithm = nccl, num_packs = 1\n",
      "INFO:tensorflow:Reduce to /job:localhost/replica:0/task:0/device:CPU:0 then broadcast to ('/job:localhost/replica:0/task:0/device:CPU:0',).\n",
      "INFO:tensorflow:Reduce to /job:localhost/replica:0/task:0/device:CPU:0 then broadcast to ('/job:localhost/replica:0/task:0/device:CPU:0',).\n",
      "INFO:tensorflow:batch_all_reduce: 18 all-reduces with algorithm = nccl, num_packs = 1\n",
      "INFO:tensorflow:Reduce to /job:localhost/replica:0/task:0/device:CPU:0 then broadcast to ('/job:localhost/replica:0/task:0/device:CPU:0',).\n",
      "INFO:tensorflow:Reduce to /job:localhost/replica:0/task:0/device:CPU:0 then broadcast to ('/job:localhost/replica:0/task:0/device:CPU:0',).\n",
      "284/284 [==============================] - ETA: 0s - loss: 0.4165INFO:tensorflow:Reduce to /job:localhost/replica:0/task:0/device:CPU:0 then broadcast to ('/job:localhost/replica:0/task:0/device:CPU:0',).\n",
      "INFO:tensorflow:Reduce to /job:localhost/replica:0/task:0/device:CPU:0 then broadcast to ('/job:localhost/replica:0/task:0/device:CPU:0',).\n",
      "284/284 [==============================] - 57s 84ms/step - loss: 0.4165 - val_loss: 0.4310\n",
      "(6040, 5)\n",
      "Iteration 1 Fit [56.9 s], Evaluate [5.4 s]: HR = 0.8023, MRR = 0.8023, NDCG = 0.8023\n",
      "284/284 [==============================] - 18s 63ms/step - loss: 0.1990 - val_loss: 0.3838\n",
      "(6040, 5)\n",
      "Iteration 2 Fit [18.2 s], Evaluate [0.3 s]: HR = 0.8472, MRR = 0.8472, NDCG = 0.8472\n",
      "284/284 [==============================] - 18s 62ms/step - loss: 0.1663 - val_loss: 0.3859\n",
      "(6040, 5)\n",
      "Iteration 3 Fit [18.1 s], Evaluate [0.3 s]: HR = 0.8608, MRR = 0.8608, NDCG = 0.8608\n",
      "284/284 [==============================] - 18s 62ms/step - loss: 0.1491 - val_loss: 0.3822\n",
      "(6040, 5)\n",
      "Iteration 4 Fit [18.1 s], Evaluate [0.3 s]: HR = 0.8636, MRR = 0.8636, NDCG = 0.8636\n",
      "284/284 [==============================] - 18s 63ms/step - loss: 0.1385 - val_loss: 0.3683\n",
      "(6040, 5)\n",
      "Iteration 5 Fit [18.1 s], Evaluate [0.3 s]: HR = 0.8763, MRR = 0.8763, NDCG = 0.8763\n",
      "284/284 [==============================] - 18s 63ms/step - loss: 0.1307 - val_loss: 0.3778\n",
      "(6040, 5)\n",
      "Iteration 6 Fit [18.1 s], Evaluate [0.3 s]: HR = 0.8760, MRR = 0.8760, NDCG = 0.8760\n",
      "hr drop 1 time\n",
      "mrr drop 1 time\n",
      "ndcg drop 1 time\n",
      "284/284 [==============================] - 18s 63ms/step - loss: 0.1252 - val_loss: 0.3775\n",
      "(6040, 5)\n",
      "Iteration 7 Fit [18.1 s], Evaluate [0.3 s]: HR = 0.8753, MRR = 0.8753, NDCG = 0.8753\n",
      "hr drop 1 time\n",
      "mrr drop 1 time\n",
      "ndcg drop 1 time\n",
      "284/284 [==============================] - 18s 63ms/step - loss: 0.1204 - val_loss: 0.3828\n",
      "(6040, 5)\n",
      "Iteration 8 Fit [18.1 s], Evaluate [0.3 s]: HR = 0.8800, MRR = 0.8800, NDCG = 0.8800\n",
      "284/284 [==============================] - 18s 63ms/step - loss: 0.1167 - val_loss: 0.3972\n",
      "(6040, 5)\n",
      "Iteration 9 Fit [18.2 s], Evaluate [0.3 s]: HR = 0.8785, MRR = 0.8785, NDCG = 0.8785\n",
      "hr drop 1 time\n",
      "mrr drop 1 time\n",
      "ndcg drop 1 time\n",
      "Trigger early stopping\n",
      "(6040, 101)\n",
      "Iteration 9 Fit [18.2 s], Evaluate [5.8 s]: HR = 0.8636, MRR = 0.6640, NDCG = 0.7102\n"
     ]
    }
   ],
   "source": [
    "from time import time\n",
    "strategy = tf.distribute.MirroredStrategy()\n",
    "batch_size=batch_size*strategy.num_replicas_in_sync\n",
    "with strategy.scope():\n",
    "    model = sasrec()\n",
    "    model.summary()\n",
    "    optimizer=tf.keras.optimizers.Nadam(learning_rate=0.001, beta_1=0.9, beta_2=0.999, epsilon=None, schedule_decay=0.004)\n",
    "    model.compile(optimizer=optimizer)\n",
    "best_eval_dict={'hr':0.,'mrr':0.,'ndcg':0.}\n",
    "eval_patience={'hr':0.,'mrr':0.,'ndcg':0.}\n",
    "for epoch in range(1, epoch_num + 1):\n",
    "    t1 = time()\n",
    "    model.fit(\n",
    "            x=train_data,\n",
    "            epochs=1,\n",
    "            batch_size=batch_size,\n",
    "        validation_data=val_data)\n",
    "    t2 = time()\n",
    "    eval_dict = eval_pos_neg(model, val_data, ['hr', 'mrr', 'ndcg'], 1, batch_size)\n",
    "    print('Iteration %d Fit [%.1f s], Evaluate [%.1f s]: HR = %.4f, MRR = %.4f, NDCG = %.4f'\n",
    "              % (epoch, t2 - t1, time() - t2, eval_dict['hr'], eval_dict['mrr'], eval_dict['ndcg']))\n",
    "    for i in eval_dict.keys():\n",
    "        if eval_dict[i]>=best_eval_dict[i]:\n",
    "            best_eval_dict[i]=eval_dict[i]\n",
    "        else:\n",
    "            print(i,'drop 1 time')\n",
    "            eval_patience[i]+=1\n",
    "    if (np.array(list(eval_patience.values()))>=3).any():\n",
    "        print('Trigger early stopping')\n",
    "        break\n",
    "eval_dict = eval_pos_neg(model, test_data, ['hr', 'mrr', 'ndcg'], 10, batch_size)\n",
    "print('Iteration %d Fit [%.1f s], Evaluate [%.1f s]: HR = %.4f, MRR = %.4f, NDCG = %.4f'\n",
    "              % (epoch, t2 - t1, time() - t2, eval_dict['hr'], eval_dict['mrr'], eval_dict['ndcg']))        "
   ]
  },
  {
   "cell_type": "code",
   "execution_count": 15,
   "id": "1a9725cf-0012-418f-bd02-be06cc7ab1ad",
   "metadata": {
    "executionInfo": {
     "elapsed": 18,
     "status": "aborted",
     "timestamp": 1666147060876,
     "user": {
      "displayName": "yijun sheng",
      "userId": "07090048668815296857"
     },
     "user_tz": -480
    },
    "id": "1a9725cf-0012-418f-bd02-be06cc7ab1ad"
   },
   "outputs": [],
   "source": [
    "all_embeddings=[0]*layers_num"
   ]
  },
  {
   "cell_type": "code",
   "execution_count": 16,
   "id": "dacf20c8-edb4-4f7b-b105-e6aff11713f5",
   "metadata": {},
   "outputs": [
    {
     "name": "stdout",
     "output_type": "stream",
     "text": [
      "[0, 0, 0, 0, 0, 0, 0, 0, 0, 0]\n"
     ]
    }
   ],
   "source": [
    "print(all_embeddings)"
   ]
  },
  {
   "cell_type": "code",
   "execution_count": 17,
   "id": "79481e70-93d3-41d1-8e5b-558125f5da11",
   "metadata": {
    "executionInfo": {
     "elapsed": 18,
     "status": "aborted",
     "timestamp": 1666147060876,
     "user": {
      "displayName": "yijun sheng",
      "userId": "07090048668815296857"
     },
     "user_tz": -480
    },
    "id": "79481e70-93d3-41d1-8e5b-558125f5da11"
   },
   "outputs": [
    {
     "data": {
      "text/plain": [
       "'def train_model(model,ds_train,ds_valid,epoches):\\n\\n    for epoch in tf.range(1,epoches+1):\\n        model.reset_metrics()\\n        \\n        # 在后期降低学习率\\n        if epoch == 5000:\\n            model.optimizer.lr.assign(model.optimizer.lr/2.0)\\n            tf.print(\"Lowering optimizer Learning Rate...\\n\\n\")\\n        \\n        for x, y in ds_train:\\n            train_result = model.train_on_batch(x, y)\\n\\n        for x, y in ds_valid:\\n            valid_result = model.test_on_batch(x, y,reset_metrics=False)\\n            \\n        if epoch%100 ==0:\\n            tf.print(\"epoch = \",epoch)\\n            print(\"train:\",dict(zip(model.metrics_names,train_result)))\\n            print(\"valid:\",dict(zip(model.metrics_names,valid_result)))\\n            print(\"\")'"
      ]
     },
     "execution_count": 17,
     "metadata": {},
     "output_type": "execute_result"
    }
   ],
   "source": [
    "'''def train_model(model,ds_train,ds_valid,epoches):\n",
    "\n",
    "    for epoch in tf.range(1,epoches+1):\n",
    "        model.reset_metrics()\n",
    "        \n",
    "        # 在后期降低学习率\n",
    "        if epoch == 5000:\n",
    "            model.optimizer.lr.assign(model.optimizer.lr/2.0)\n",
    "            tf.print(\"Lowering optimizer Learning Rate...\\n\\n\")\n",
    "        \n",
    "        for x, y in ds_train:\n",
    "            train_result = model.train_on_batch(x, y)\n",
    "\n",
    "        for x, y in ds_valid:\n",
    "            valid_result = model.test_on_batch(x, y,reset_metrics=False)\n",
    "            \n",
    "        if epoch%100 ==0:\n",
    "            tf.print(\"epoch = \",epoch)\n",
    "            print(\"train:\",dict(zip(model.metrics_names,train_result)))\n",
    "            print(\"valid:\",dict(zip(model.metrics_names,valid_result)))\n",
    "            print(\"\")'''"
   ]
  },
  {
   "cell_type": "code",
   "execution_count": 18,
   "id": "6a286ada-d7d0-4faf-a82c-43c935a51ff9",
   "metadata": {
    "executionInfo": {
     "elapsed": 18,
     "status": "aborted",
     "timestamp": 1666147060876,
     "user": {
      "displayName": "yijun sheng",
      "userId": "07090048668815296857"
     },
     "user_tz": -480
    },
    "id": "6a286ada-d7d0-4faf-a82c-43c935a51ff9"
   },
   "outputs": [
    {
     "data": {
      "text/plain": [
       "'train_model(model,ds_train,ds_test,800)'"
      ]
     },
     "execution_count": 18,
     "metadata": {},
     "output_type": "execute_result"
    }
   ],
   "source": [
    "'''train_model(model,ds_train,ds_test,800)'''"
   ]
  },
  {
   "cell_type": "code",
   "execution_count": 19,
   "id": "f8e66217-f349-4dc4-85fe-a8d250b20e79",
   "metadata": {
    "executionInfo": {
     "elapsed": 19,
     "status": "aborted",
     "timestamp": 1666147060877,
     "user": {
      "displayName": "yijun sheng",
      "userId": "07090048668815296857"
     },
     "user_tz": -480
    },
    "id": "f8e66217-f349-4dc4-85fe-a8d250b20e79"
   },
   "outputs": [
    {
     "data": {
      "text/plain": [
       "'\\nitems_num=3416\\nmaxlen=100\\nlen_seq=50\\nbatch_size=512\\nepoch_num=20\\nhidden_size=64\\nkeep_rate=0.9\\nlayers_num=2\\nnum_interest=1\\nneg_num=4\\ntest_neg_num=100\\n567/567 [==============================] - 32s 36ms/step - loss: 0.3581\\nIteration 1 Fit [32.5 s], Evaluate [1.5 s]: HR = 0.1518, MRR = 0.0580, NDCG = 0.0800\\n567/567 [==============================] - 21s 36ms/step - loss: 0.1707\\nIteration 2 Fit [20.9 s], Evaluate [0.4 s]: HR = 0.1877, MRR = 0.0754, NDCG = 0.1018\\n567/567 [==============================] - 20s 35ms/step - loss: 0.1296\\nIteration 3 Fit [20.2 s], Evaluate [0.3 s]: HR = 0.2270, MRR = 0.0938, NDCG = 0.1251\\n567/567 [==============================] - 17s 31ms/step - loss: 0.1101\\nIteration 4 Fit [17.6 s], Evaluate [0.4 s]: HR = 0.2409, MRR = 0.0962, NDCG = 0.1303\\n567/567 [==============================] - 19s 33ms/step - loss: 0.0978\\nIteration 5 Fit [18.9 s], Evaluate [0.3 s]: HR = 0.2594, MRR = 0.1063, NDCG = 0.1424\\n567/567 [==============================] - 17s 31ms/step - loss: 0.0889\\nIteration 6 Fit [17.6 s], Evaluate [0.3 s]: HR = 0.2757, MRR = 0.1099, NDCG = 0.1490\\n567/567 [==============================] - 20s 36ms/step - loss: 0.0813\\nIteration 7 Fit [20.6 s], Evaluate [0.3 s]: HR = 0.2846, MRR = 0.1158, NDCG = 0.1557\\n567/567 [==============================] - 18s 31ms/step - loss: 0.0754\\nIteration 8 Fit [17.8 s], Evaluate [0.3 s]: HR = 0.2791, MRR = 0.1131, NDCG = 0.1523\\n567/567 [==============================] - 17s 30ms/step - loss: 0.0704\\nIteration 9 Fit [17.3 s], Evaluate [0.3 s]: HR = 0.2899, MRR = 0.1168, NDCG = 0.1578\\n567/567 [==============================] - 17s 30ms/step - loss: 0.0658\\nIteration 10 Fit [17.1 s], Evaluate [0.3 s]: HR = 0.2937, MRR = 0.1186, NDCG = 0.1600\\n567/567 [==============================] - 17s 30ms/step - loss: 0.0621\\nIteration 11 Fit [17.3 s], Evaluate [0.3 s]: HR = 0.2874, MRR = 0.1159, NDCG = 0.1565\\n567/567 [==============================] - 17s 30ms/step - loss: 0.0585\\nIteration 12 Fit [17.4 s], Evaluate [0.3 s]: HR = 0.2896, MRR = 0.1153, NDCG = 0.1565\\n567/567 [==============================] - 21s 38ms/step - loss: 0.0556\\nIteration 13 Fit [21.6 s], Evaluate [0.4 s]: HR = 0.2851, MRR = 0.1175, NDCG = 0.1572\\n567/567 [==============================] - 22s 39ms/step - loss: 0.0529\\nIteration 14 Fit [22.6 s], Evaluate [0.3 s]: HR = 0.2831, MRR = 0.1156, NDCG = 0.1553\\n567/567 [==============================] - 19s 34ms/step - loss: 0.0503\\nIteration 15 Fit [19.4 s], Evaluate [0.3 s]: HR = 0.2841, MRR = 0.1139, NDCG = 0.1542\\n567/567 [==============================] - 19s 33ms/step - loss: 0.0478\\nIteration 16 Fit [18.9 s], Evaluate [0.3 s]: HR = 0.2834, MRR = 0.1141, NDCG = 0.1541\\n567/567 [==============================] - 20s 35ms/step - loss: 0.0462\\nIteration 17 Fit [19.8 s], Evaluate [0.3 s]: HR = 0.2765, MRR = 0.1114, NDCG = 0.1504\\n567/567 [==============================] - 21s 37ms/step - loss: 0.0441\\nIteration 18 Fit [21.2 s], Evaluate [0.4 s]: HR = 0.2858, MRR = 0.1165, NDCG = 0.1566\\n567/567 [==============================] - 19s 33ms/step - loss: 0.0424\\nIteration 19 Fit [18.8 s], Evaluate [0.3 s]: HR = 0.2879, MRR = 0.1180, NDCG = 0.1582\\n567/567 [==============================] - 17s 30ms/step - loss: 0.0406\\nIteration 20 Fit [17.2 s], Evaluate [0.3 s]: HR = 0.2902, MRR = 0.1177, NDCG = 0.1584\\n'"
      ]
     },
     "execution_count": 19,
     "metadata": {},
     "output_type": "execute_result"
    }
   ],
   "source": [
    "'''\n",
    "items_num=3416\n",
    "maxlen=100\n",
    "len_seq=50\n",
    "batch_size=512\n",
    "epoch_num=20\n",
    "hidden_size=64\n",
    "keep_rate=0.9\n",
    "layers_num=2\n",
    "num_interest=1\n",
    "neg_num=4\n",
    "test_neg_num=100\n",
    "567/567 [==============================] - 32s 36ms/step - loss: 0.3581\n",
    "Iteration 1 Fit [32.5 s], Evaluate [1.5 s]: HR = 0.1518, MRR = 0.0580, NDCG = 0.0800\n",
    "567/567 [==============================] - 21s 36ms/step - loss: 0.1707\n",
    "Iteration 2 Fit [20.9 s], Evaluate [0.4 s]: HR = 0.1877, MRR = 0.0754, NDCG = 0.1018\n",
    "567/567 [==============================] - 20s 35ms/step - loss: 0.1296\n",
    "Iteration 3 Fit [20.2 s], Evaluate [0.3 s]: HR = 0.2270, MRR = 0.0938, NDCG = 0.1251\n",
    "567/567 [==============================] - 17s 31ms/step - loss: 0.1101\n",
    "Iteration 4 Fit [17.6 s], Evaluate [0.4 s]: HR = 0.2409, MRR = 0.0962, NDCG = 0.1303\n",
    "567/567 [==============================] - 19s 33ms/step - loss: 0.0978\n",
    "Iteration 5 Fit [18.9 s], Evaluate [0.3 s]: HR = 0.2594, MRR = 0.1063, NDCG = 0.1424\n",
    "567/567 [==============================] - 17s 31ms/step - loss: 0.0889\n",
    "Iteration 6 Fit [17.6 s], Evaluate [0.3 s]: HR = 0.2757, MRR = 0.1099, NDCG = 0.1490\n",
    "567/567 [==============================] - 20s 36ms/step - loss: 0.0813\n",
    "Iteration 7 Fit [20.6 s], Evaluate [0.3 s]: HR = 0.2846, MRR = 0.1158, NDCG = 0.1557\n",
    "567/567 [==============================] - 18s 31ms/step - loss: 0.0754\n",
    "Iteration 8 Fit [17.8 s], Evaluate [0.3 s]: HR = 0.2791, MRR = 0.1131, NDCG = 0.1523\n",
    "567/567 [==============================] - 17s 30ms/step - loss: 0.0704\n",
    "Iteration 9 Fit [17.3 s], Evaluate [0.3 s]: HR = 0.2899, MRR = 0.1168, NDCG = 0.1578\n",
    "567/567 [==============================] - 17s 30ms/step - loss: 0.0658\n",
    "Iteration 10 Fit [17.1 s], Evaluate [0.3 s]: HR = 0.2937, MRR = 0.1186, NDCG = 0.1600\n",
    "567/567 [==============================] - 17s 30ms/step - loss: 0.0621\n",
    "Iteration 11 Fit [17.3 s], Evaluate [0.3 s]: HR = 0.2874, MRR = 0.1159, NDCG = 0.1565\n",
    "567/567 [==============================] - 17s 30ms/step - loss: 0.0585\n",
    "Iteration 12 Fit [17.4 s], Evaluate [0.3 s]: HR = 0.2896, MRR = 0.1153, NDCG = 0.1565\n",
    "567/567 [==============================] - 21s 38ms/step - loss: 0.0556\n",
    "Iteration 13 Fit [21.6 s], Evaluate [0.4 s]: HR = 0.2851, MRR = 0.1175, NDCG = 0.1572\n",
    "567/567 [==============================] - 22s 39ms/step - loss: 0.0529\n",
    "Iteration 14 Fit [22.6 s], Evaluate [0.3 s]: HR = 0.2831, MRR = 0.1156, NDCG = 0.1553\n",
    "567/567 [==============================] - 19s 34ms/step - loss: 0.0503\n",
    "Iteration 15 Fit [19.4 s], Evaluate [0.3 s]: HR = 0.2841, MRR = 0.1139, NDCG = 0.1542\n",
    "567/567 [==============================] - 19s 33ms/step - loss: 0.0478\n",
    "Iteration 16 Fit [18.9 s], Evaluate [0.3 s]: HR = 0.2834, MRR = 0.1141, NDCG = 0.1541\n",
    "567/567 [==============================] - 20s 35ms/step - loss: 0.0462\n",
    "Iteration 17 Fit [19.8 s], Evaluate [0.3 s]: HR = 0.2765, MRR = 0.1114, NDCG = 0.1504\n",
    "567/567 [==============================] - 21s 37ms/step - loss: 0.0441\n",
    "Iteration 18 Fit [21.2 s], Evaluate [0.4 s]: HR = 0.2858, MRR = 0.1165, NDCG = 0.1566\n",
    "567/567 [==============================] - 19s 33ms/step - loss: 0.0424\n",
    "Iteration 19 Fit [18.8 s], Evaluate [0.3 s]: HR = 0.2879, MRR = 0.1180, NDCG = 0.1582\n",
    "567/567 [==============================] - 17s 30ms/step - loss: 0.0406\n",
    "Iteration 20 Fit [17.2 s], Evaluate [0.3 s]: HR = 0.2902, MRR = 0.1177, NDCG = 0.1584\n",
    "'''"
   ]
  }
 ],
 "metadata": {
  "colab": {
   "collapsed_sections": [],
   "provenance": []
  },
  "kernelspec": {
   "display_name": "Python 3 (ipykernel)",
   "language": "python",
   "name": "python3"
  },
  "language_info": {
   "codemirror_mode": {
    "name": "ipython",
    "version": 3
   },
   "file_extension": ".py",
   "mimetype": "text/x-python",
   "name": "python",
   "nbconvert_exporter": "python",
   "pygments_lexer": "ipython3",
   "version": "3.8.10"
  }
 },
 "nbformat": 4,
 "nbformat_minor": 5
}
